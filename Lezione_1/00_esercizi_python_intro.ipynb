{
 "cells": [
  {
   "cell_type": "markdown",
   "metadata": {},
   "source": [
    "# Esercizio n. 1\n",
    "Scrivere un programma che, data una lista (ad esempio, a = [1, 1, 2, 3, 5, 8, 13, 21, 34, 55, 89]) stampa tutti gli elementi della lista che sono minori di 5.\n",
    "\n",
    "Extra:\n",
    "* Invece di stampare gli elementi uno per uno, creare un nuovo elenco che contenga tutti gli elementi inferiori a 5 dall'elenco di input e stampare questo nuovo elenco.\n"
   ]
  },
  {
   "cell_type": "code",
   "execution_count": 1,
   "metadata": {},
   "outputs": [
    {
     "name": "stdout",
     "output_type": "stream",
     "text": [
      "[1, 1, 2, 3, 5]\n"
     ]
    }
   ],
   "source": [
    "import numpy as np\n",
    "\n",
    "a = [1, 1, 2, 3, 5, 8, 13, 21, 34, 55, 89]\n",
    "b = []\n",
    "\n",
    "for element in a:\n",
    "    if element <= 5:\n",
    "        b.append(element)\n",
    "print(b)\n",
    "\n"
   ]
  },
  {
   "cell_type": "markdown",
   "metadata": {},
   "source": [
    "# Esercizio n. 2\n",
    "Scrivere un programma che, date due liste, restituisca una lista che contiene solo gli elementi che sono comuni tra le prime due liste (senza duplicati), ad esempio, usando a = [1, 1, 2, 3, 5, 8, 13, 21, 34, 55, 89], b = [1, 2, 3, 4, 5, 6, 7, 8, 9, 10, 11, 12, 13].\n",
    "\n",
    "Assicurati che il tuo programma funzioni su due liste di dimensioni diverse.\n",
    "\n",
    "Extra:\n",
    "* Scrivere lo stesso programma per restituire un elenco con elementi concatenati tra gli elenchi di input (con ripetizioni)."
   ]
  },
  {
   "cell_type": "code",
   "execution_count": 2,
   "metadata": {},
   "outputs": [
    {
     "name": "stdout",
     "output_type": "stream",
     "text": [
      "[1, 2, 3, 5, 8, 13]\n"
     ]
    }
   ],
   "source": [
    "\n",
    "\n",
    "\n",
    "a = [1, 1, 2, 3, 5, 8, 13, 21, 34, 55, 89]\n",
    "b = [1, 2, 3, 4, 5, 6, 7, 8, 9, 10, 11, 12, 13]\n",
    "\n",
    "c = [aa for aa in a if aa in b ]\n",
    "\n",
    "print(list(set(c)))\n",
    "\n"
   ]
  },
  {
   "cell_type": "markdown",
   "metadata": {},
   "source": [
    "# Esercizio n. 3\n",
    "Sfruttando la list comprehension, scrivi una riga di codice Python che prende una lista (ad esempio, a = [1, 4, 9, 16, 25, 36, 49, 64, 81, 100]) e crea una nuova lista che ha solo gli elementi pari della lista di partenza. "
   ]
  },
  {
   "cell_type": "code",
   "execution_count": 3,
   "metadata": {},
   "outputs": [
    {
     "name": "stdout",
     "output_type": "stream",
     "text": [
      "[2, 8, 34]\n"
     ]
    }
   ],
   "source": [
    "a = [1, 1, 2, 3, 5, 8, 13, 21, 34, 55, 89]\n",
    "pari = [aa for aa in a if aa % 2 == 0]\n",
    "print(pari)"
   ]
  },
  {
   "cell_type": "markdown",
   "metadata": {},
   "source": [
    "# Esercizio n. 4\n",
    "Scrivete un programma per stampare il seguente modello usando i cicli for.\n",
    "\n",
    "```\n",
    "* \n",
    "* * \n",
    "* * * \n",
    "* * * * \n",
    "* * * * * \n",
    "* * * * \n",
    "* * * \n",
    "* * \n",
    "*\n",
    "```"
   ]
  },
  {
   "cell_type": "code",
   "execution_count": 4,
   "metadata": {},
   "outputs": [
    {
     "name": "stdout",
     "output_type": "stream",
     "text": [
      "\n",
      " *\n",
      " * *\n",
      " * * *\n",
      " * * * *\n",
      " * * * * *\n",
      " * * * *\n",
      " * * *\n",
      " * *\n",
      " *\n"
     ]
    }
   ],
   "source": [
    "\n",
    "for i in range(5):\n",
    "    print(i*' *')\n",
    "\n",
    "for i in range(5,0,-1):\n",
    "    print(i*' *')\n"
   ]
  },
  {
   "cell_type": "markdown",
   "metadata": {},
   "source": [
    "# Esercizio n. 5\n",
    "Scrivere un programma per controllare se tutti i caratteri di s1 sono contenuti in s2. La posizione del carattere non ha importanza.\n",
    "\n",
    "Ad esempio con s1='by' e s2='blueberry' dovrebbe restituire true. Al contrario, con s1='byZ' e s2='blueberry' dovrebbe restituire false.\n"
   ]
  },
  {
   "cell_type": "code",
   "execution_count": 5,
   "metadata": {},
   "outputs": [
    {
     "name": "stdout",
     "output_type": "stream",
     "text": [
      "False\n"
     ]
    }
   ],
   "source": [
    "s1='byaskjgdiusa'\n",
    "s2='blueberry'\n",
    "c = True\n",
    "for char in s1:\n",
    "    if char not in s2:\n",
    "        c = False\n",
    "print(c)\n",
    "\n",
    "        \n",
    "    "
   ]
  },
  {
   "cell_type": "markdown",
   "metadata": {},
   "source": [
    "# Esercizio n. 6\n",
    "Crea una funzione che accetta due numeri interi come parametri di input e se il loro prodotto è minore di 1000 restituisce il prodotto, altrimenti restituisce la somma dei numeri di input.\n",
    "\n",
    "Extra:\n",
    "* Scrivere lo stesso programma utilizzando il parametro soglia (1000) come parametro opzionale di input. Ciò significa che questo parametro deve essere definito al suo valore predefinito nella funzione. Testare la funzione modificando la soglia quando la si chiama."
   ]
  },
  {
   "cell_type": "code",
   "execution_count": 6,
   "metadata": {},
   "outputs": [],
   "source": [
    "\n",
    "def fun (a , b, soglia):\n",
    "    \n",
    "    if a * b < soglia:\n",
    "        return a * b\n",
    "    return a+b\n"
   ]
  },
  {
   "cell_type": "markdown",
   "metadata": {},
   "source": [
    "# Esercizio n. 7\n",
    "Scrivi una funzione Python che, presa in input una lista:\n",
    "* restituisca la somma e il prodotto degli elementi contenuti in una lista\n",
    "\n",
    "Scrivi una funzione Python che, presa in input una lista:\n",
    "* restituisca la somma o il prodotto degli elementi della lista a seconda di un parametro di input aggiuntivo specificato dall'utente.\n"
   ]
  },
  {
   "cell_type": "code",
   "execution_count": 14,
   "metadata": {},
   "outputs": [
    {
     "name": "stdout",
     "output_type": "stream",
     "text": [
      "[10, 24]\n",
      "24\n"
     ]
    }
   ],
   "source": [
    "def fun1 (list):\n",
    "    return [sum(list), np.prod(list)]\n",
    "\n",
    "def fun2 (list, mul):\n",
    "    return np.prod(list) if mul else sum(list)\n",
    "\n",
    "print(fun1([1,2,3,4]))\n",
    "print(fun2([1,2,3,4], True))"
   ]
  },
  {
   "cell_type": "markdown",
   "metadata": {
    "ExecuteTime": {
     "end_time": "2023-02-21T00:10:18.015779Z",
     "start_time": "2023-02-21T00:10:17.978520Z"
    }
   },
   "source": [
    "# Esercizio n. 8\n",
    "Dato un elenco di numeri interi, ad esempio x = [0,1,2,3,4,5,6,7,8,9,], eleva al quadrato tutti i suoi valori in un nuovo elenco y. Usa la list comprehension per farlo.\n",
    "\n",
    "* Traccia y su x usando la libreria matplotlib. Aggiungi anche un indicatore per ogni punto (ad esempio, un indicatore quadrato).\n",
    "\n",
    "* Prova a modificare alcuni parametri della trama come:\n",
    "     * colore\n",
    "     * etichetta x, etichetta y\n",
    "     * grid(axis='y')# \n",
    "     * titolo\n",
    "     * larghezza della linea\n",
    "\n",
    "* Tracciare una seconda curva (ad esempio, una relazione cubica o lineare semplice su x) sulla curva precedente.\n",
    "* Invece di tracciare le due curve in un unico grafico, riportarle su due subplot distinti organizzati per colonne (ad esempio, subplot(1,2,1) e subplot(1,2,2))."
   ]
  },
  {
   "cell_type": "code",
   "execution_count": 18,
   "metadata": {},
   "outputs": [
    {
     "data": {
      "image/png": "[encoded data removed]",
      "text/plain": [
       "<Figure size 640x480 with 2 Axes>"
      ]
     },
     "metadata": {},
     "output_type": "display_data"
    }
   ],
   "source": [
    "import matplotlib.pyplot as plt\n",
    "\n",
    "x = [0,1,2,3,4,5,6,7,8,9,]\n",
    "\n",
    "y = [aa * aa for aa in x ]\n",
    "\n",
    "x_squared = [aa * aa for aa in x]\n",
    "\n",
    "x_cubed = [aa * aa * aa for aa in x]\n",
    "\n",
    "plt.figure()\n",
    "plt.subplot(1,2,1)\n",
    "plt.plot(x, y, 'k', linewidth = 0.5)\n",
    "plt.plot(x, y, 'rs', ms = 5)\n",
    "plt.subplot(1,2,2)\n",
    "plt.plot(x, x_cubed, 'b', linewidth = 0.5)\n",
    "plt.xlabel('x')\n",
    "plt.ylabel('y')\n",
    "plt.grid(axis = 'both')\n",
    "plt.show()\n"
   ]
  }
 ],
 "metadata": {
  "kernelspec": {
   "display_name": "Python 3 (ipykernel)",
   "language": "python",
   "name": "python3"
  },
  "language_info": {
   "codemirror_mode": {
    "name": "ipython",
    "version": 3
   },
   "file_extension": ".py",
   "mimetype": "text/x-python",
   "name": "python",
   "nbconvert_exporter": "python",
   "pygments_lexer": "ipython3",
   "version": "3.11.9"
  },
  "varInspector": {
   "cols": {
    "lenName": 16,
    "lenType": 16,
    "lenVar": 40
   },
   "kernels_config": {
    "python": {
     "delete_cmd_postfix": "",
     "delete_cmd_prefix": "del ",
     "library": "var_list.py",
     "varRefreshCmd": "print(var_dic_list())"
    },
    "r": {
     "delete_cmd_postfix": ") ",
     "delete_cmd_prefix": "rm(",
     "library": "var_list.r",
     "varRefreshCmd": "cat(var_dic_list()) "
    }
   },
   "types_to_exclude": [
    "module",
    "function",
    "builtin_function_or_method",
    "instance",
    "_Feature"
   ],
   "window_display": false
  }
 },
 "nbformat": 4,
 "nbformat_minor": 4
}
