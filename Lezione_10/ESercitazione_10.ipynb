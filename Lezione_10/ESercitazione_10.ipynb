{
 "cells": [
  {
   "cell_type": "markdown",
   "id": "c33c02f5-a85e-4689-bcba-9a00a03dab3c",
   "metadata": {},
   "source": [
    "# Esercitazione 10\n",
    "**7  Maggio 2024**"
   ]
  },
  {
   "cell_type": "markdown",
   "id": "f6b59003-c255-41cb-b711-67609181c39e",
   "metadata": {},
   "source": [
    "### Codice EquazioniNormali\n",
    "Implementare la function  **eqnorm(A,b)** che implementa il metodo delle equazioni normali per la soluzione del sistema sovradeterminato Ax=b e che prende in input:\n",
    "- la matrice A di dimensione $m \\times n$ , $m>n$\n",
    "- il termine noto b di ordine m\n",
    "restituisce in output\n",
    "- la soluzione del sistema lineare "
   ]
  },
  {
   "cell_type": "code",
   "execution_count": 68,
   "id": "04305767",
   "metadata": {},
   "outputs": [],
   "source": [
    "import numpy as np\n",
    "import numpy.linalg as npl\n",
    "import scipy.linalg as spl\n",
    "import SolveTriangular\n",
    "import matplotlib.pyplot as plt\n",
    "\n",
    "def eqnorm(B,y):\n",
    "    \"\"\"\n",
    "    Implementare la function  **eqnorm(A,b)** che implementa il metodo delle equazioni normali per la soluzione del sistema sovradeterminato Ax=b e che prende in input:\n",
    "    - la matrice A di dimensione m x n ,m>n\n",
    "    - il termine noto b di ordine m\n",
    "    restituisce in output\n",
    "    - la soluzione del sistema lineare \n",
    "    \"\"\"\n",
    "    G = B.T@B\n",
    "    condG = np.linalg.cond(G)\n",
    "    print(\"Condizionamento di G: \", condG)\n",
    "\n",
    "    f = B.T@y\n",
    "\n",
    "    #Fattorizziamo la matrice con choleski\n",
    "\n",
    "    L=spl.cholesky(G,lower=True)\n",
    "    \n",
    "    b, flag = SolveTriangular.Lsolve(L,f)\n",
    "    if flag == 0:\n",
    "        a,flag = SolveTriangular.Usolve(L.T, b)\n",
    "\n",
    "    return a"
   ]
  },
  {
   "cell_type": "markdown",
   "id": "cdd19909-e613-455a-a98e-dd5e8175a835",
   "metadata": {},
   "source": [
    "### Codice QRLS\n",
    "Implementare la function  **qrLS(A,b)** che utilizza il metodo QR per la soluzione del sistema sovradeterminato Ax=b e che prende in input:\n",
    "- la matrice A di dimensione $m \\times n$ , $m>n$\n",
    "- il termine noto b di ordine m\n",
    "restituisce in output\n",
    "- la soluzione del sistema lineare e la norma 2 al quadrato del residuo."
   ]
  },
  {
   "cell_type": "code",
   "execution_count": 69,
   "id": "c3cb42f1",
   "metadata": {},
   "outputs": [],
   "source": [
    "def qrLS(A,b):\n",
    "    n=A.shape[1]  # numero di colonne di A\n",
    "    if npl.matrix_rank(A) != min(A.shape[0],A.shape[1]):\n",
    "        print(\"LA matrice non ha rango massimo\")\n",
    "        return None, None\n",
    "\n",
    "    Q, R = spl.qr(A)\n",
    "    h = Q.T@b\n",
    "    x,flag=SolveTriangular.Usolve(R[0:n,:],h[0:n])\n",
    "    residuo=np.linalg.norm(h[n:])**2\n",
    "    return x,residuo\n",
    "\n",
    "def qrLS1(A,b):\n",
    "    n=A.shape[1]  # numero di colonne di A\n",
    "    Q,R=spl.qr(A)\n",
    "    h=Q.T@b\n",
    "    x,flag=SolveTriangular.Usolve(R[0:n,:],h[0:n])\n",
    "    residuo=np.linalg.norm(h[n:])**2\n",
    "    return x,residuo\n"
   ]
  },
  {
   "cell_type": "markdown",
   "id": "5efe494f-3f53-4dfb-8601-fcee7f691691",
   "metadata": {},
   "source": [
    "### Codice SVDLS\n",
    "Implementare la function  **svdLS(A,b)** che utilizza  il metodo SVD per la soluzione del sistema sovradeterminato Ax=b e che prende in input:\n",
    "- la matrice A di dimensione $m \\times n$ , $m>n$\n",
    "- il termine noto b di ordine m\n",
    "restituisce in output\n",
    "- la soluzione del sistema lineare e la norma 2 al quadrato del residuo."
   ]
  },
  {
   "cell_type": "code",
   "execution_count": 70,
   "id": "92ac2a0b",
   "metadata": {},
   "outputs": [],
   "source": [
    "def svdLS(A,b):\n",
    "    Rows, Cols = A.shape\n",
    "    U,Eps,VT = spl.svd(A)\n",
    "    thresh=np.spacing(1)*Rows*Eps[0] ##Calcolo del rango della matrice, numero dei valori singolari maggiori di una soglia\n",
    "    k=np.count_nonzero(Eps>thresh)\n",
    "    print(\"rango=\",k)\n",
    "\n",
    "    d = U.T@b\n",
    "    d1 = d[0:k].reshape(k,1)\n",
    "    Eps1=Eps[:k].reshape(k,1)\n",
    "    c = d1/Eps1\n",
    "    x=VT.T[:,:k]@c \n",
    "    residuo=npl.norm(d[k:])**2\n",
    "    return x, residuo\n",
    "\n"
   ]
  },
  {
   "cell_type": "markdown",
   "id": "12228038-aafe-45b0-803b-8ad5d3a2925c",
   "metadata": {},
   "source": [
    "## Esercizio 1\n",
    "- Si utilizzino i tre metodi implementati  per l'approssimazione ai minimi quadrati delle seguenti configurazioni di dati:\n",
    "\n",
    "$$\n",
    "\\begin{array}{l}\n",
    "x_1 = [-3.5, \\, -3, \\, -2, \\, -1.5, \\, -0.5, \\, 0.5, \\, 1.7, \\, 2.5, \\, 3] ;\\\\\n",
    "y_1 = [-3.9, \\, -4.8, \\, -3.3, \\, -2.5, \\, 0.3, \\, 1.8, \\, 4, \\, 6.9, \\, 7.1] ;\\\\\n",
    "x_2 = [-3.14, \\, -2.4, \\, -1.57, \\, -0.7, \\, -0.3, \\, 0, \\, 0.4, \\, 0.7, \\, 1.57] ;\\\\\n",
    "y_2 = [0.02, \\, -1, \\, -0.9, \\, -0.72, \\, -0.2, \\, -0.04, \\, 0.65, \\, 0.67, \\, 1.1] ;\\\\\n",
    "x_3 = [[1.001,\\, 1.004,\\, 1.005,\\,1.0012, \\,1.0013,  \\, 1.0014,  \\, 1.0015, \\, 1.0016] ;\\\\\n",
    "y_3 = [-1.2, \\, -0.95, \\, -0.9, \\, -1.15, \\, -1.1, \\, -1] ;\\\\\n",
    "\\end{array}\n",
    "$$\n",
    "\n",
    "al variare del grado $n$ tra 1 e 4.\n",
    "\n"
   ]
  },
  {
   "cell_type": "code",
   "execution_count": 71,
   "id": "84b1adcb",
   "metadata": {},
   "outputs": [
    {
     "name": "stdout",
     "output_type": "stream",
     "text": [
      "Condizionamento di G:  5750600392.766488\n",
      "rango= 9\n",
      "Residuo EQN  6.325964592338164e-24\n",
      "residuo QR  0.0\n",
      "Residuo SVD  0.0\n"
     ]
    },
    {
     "data": {
      "image/png": "[encoded data removed]",
      "text/plain": [
       "<Figure size 640x480 with 1 Axes>"
      ]
     },
     "metadata": {},
     "output_type": "display_data"
    }
   ],
   "source": [
    "x= np.array([-3.5,-3, -2, -1.5, -0.5, 0.5, 1.7, 2.5, 3]) \n",
    "y = np.array([-3.9,-4.8,-3.3,-2.5, 0.3,1.8,4,6.9,7.1])\n",
    "#x=np.array( [-3.14,  -2.4,  -1.57,  -0.7,  -0.3,  0,  0.4,  0.7,  1.57]  )\n",
    "#y=np.array(  [0.02,  -1, -0.9,   -0.72,   -0.2,   -0.04,  0.65,   0.67,   1.1] )\n",
    "#x  = np.array([1.001, 1.004, 1.005,1.0012, 1.0013,   1.0014,   1.0015,  1.0016])\n",
    "#y  = np.array([-1.2,-1.0, -0.98,-0.95,-0.9, -1.15, -1.1, -1])\n",
    "m=x.shape[0]\n",
    "n=20  #grado del polinomio di regressione\n",
    "n1=n+1  # gradi di libertà\n",
    "A=np.vander(x,increasing=True)[:,:n1]\n",
    "alpha_EQN=eqnorm(A,y)\n",
    "residuo_eqn=np.linalg.norm(A@alpha_EQN-y.reshape(m,1))**2\n",
    "\n",
    "alpha_QR,residuo_QR=qrLS(A,y)\n",
    "alpha_SVD,residuo_SVD=svdLS(A,y)\n",
    "\n",
    "print(\"Residuo EQN \",residuo_eqn)\n",
    "print(\"residuo QR \",residuo_QR)\n",
    "print(\"Residuo SVD \",residuo_SVD)\n",
    "xv=np.linspace(np.min(x),np.max(x),100)\n",
    "pol_EQN=np.polyval(np.flip(alpha_EQN),xv)\n",
    "pol_QR=np.polyval(np.flip(alpha_QR),xv)\n",
    "pol_SVD=np.polyval(np.flip(alpha_SVD),xv)\n",
    "plt.plot(x,y,'ro',xv,pol_SVD)\n",
    "plt.show()"
   ]
  },
  {
   "cell_type": "markdown",
   "id": "a2b6044f-2076-4979-be19-4584ae4857c6",
   "metadata": {},
   "source": [
    "## Esercizio 2: \n",
    "Per i dati $(x_i, y_i)$ riportati nei seguenti array\n",
    "\n",
    "$$\n",
    "\\begin{array}{l}\n",
    "x = [0.0004, \\, 0.2507, \\, 0.5008, \\, 2.0007, \\, 8.0013]  ;\\\\\n",
    "y = [0.0007, \\, 0.0162, \\, 0.0288, \\, 0.0309, \\, 0.0310] ;\n",
    "\\end{array}\n",
    "$$\n",
    "\n",
    "- costruire la retta di regressione;\n",
    "- costruire la parabola approssimante i dati nel senso dei minimi quadrati;\n",
    "\n",
    "Quale tra le due approssimazioni risulta la migliore? (Confrontare i grafici e la norma euclidea al quadrato del vettore dei residui).\n",
    "\n"
   ]
  },
  {
   "cell_type": "code",
   "execution_count": 72,
   "id": "dfa79bc8",
   "metadata": {},
   "outputs": [
    {
     "name": "stdout",
     "output_type": "stream",
     "text": [
      "Norma euclidea al quadrato dei residui per la regressione lineare: 0.0004848327762313228\n",
      "Norma euclidea al quadrato dei residui per la regressione polinomiale: 0.00023646355940249857\n"
     ]
    },
    {
     "data": {
      "image/png": "[encoded data removed]",
      "text/plain": [
       "<Figure size 640x480 with 1 Axes>"
      ]
     },
     "metadata": {},
     "output_type": "display_data"
    }
   ],
   "source": [
    "x =np.array([0.0004,  0.2507,  0.5008,  2.0007, 8.0013])  \n",
    "y = np.array([0.0007,  0.0162,  0.0288,  0.0309, 0.0310])\n",
    "\n",
    "# Regressione lineare\n",
    "A = np.vstack([x, np.ones(len(x))]).T\n",
    "m, c = np.linalg.lstsq(A, y, rcond=None)[0]\n",
    "\n",
    "# Regressione polinomiale (parabola)\n",
    "coefficients = np.polyfit(x, y, 2)\n",
    "poly = np.poly1d(coefficients)\n",
    "\n",
    "# Grafico\n",
    "plt.scatter(x, y, label='Dati', color='blue')\n",
    "plt.plot(x, m*x + c, label='Regressione lineare', color='red')\n",
    "plt.plot(x, poly(x), label='Regressione polinomiale', color='green')\n",
    "plt.xlabel('x')\n",
    "plt.ylabel('y')\n",
    "plt.title('Confronto tra regressione lineare e polinomiale')\n",
    "plt.legend()\n",
    "\n",
    "# Calcolo dei residui\n",
    "residuals_linear = y - (m*x + c)\n",
    "residuals_poly = y - poly(x)\n",
    "\n",
    "# Norma euclidea al quadrato dei residui\n",
    "norm_squared_linear = np.sum(residuals_linear**2)\n",
    "norm_squared_poly = np.sum(residuals_poly**2)\n",
    "\n",
    "print(\"Norma euclidea al quadrato dei residui per la regressione lineare:\", norm_squared_linear)\n",
    "print(\"Norma euclidea al quadrato dei residui per la regressione polinomiale:\", norm_squared_poly)\n",
    "\n",
    "plt.show()\n",
    "\n"
   ]
  },
  {
   "cell_type": "markdown",
   "id": "bea991a1-bdea-4496-98ac-4057a3feed66",
   "metadata": {},
   "source": [
    "## Esercizio 3:\n",
    "Scrivere uno script Python per approssimare la seguente configurazione di punti\n",
    "\n",
    "$$\n",
    "\\begin{array}{l}\n",
    "x = [10 \\, : \\, 0.5/5 \\, : \\, 10.5] ;\\\\\n",
    "y = [11.0320, \\, 11.1263, \\, 11.1339, \\, 11.1339, \\, 11.1993, \\, 11.1844] ;\n",
    "\\end{array}\n",
    "$$\n",
    "\n",
    "mediante un polinomio ai minimi quadrati di grado 4 costruito  con il metodo\n",
    "delle equazioni normali, con il metodo QRLS e con il metodo SVDLS.\n",
    "Perturbare poi il secondo punto nel seguente modo\n",
    "$$x(1) = x(1) + 0.013; \\quad y(1) = y(1) - 0.001;$$\n",
    "e calcolare i polinomi ai minimi quadrati relativi alla\n",
    "configurazione perturbata. Commentare e motivare i risultati ottenuti.\n",
    "\n"
   ]
  },
  {
   "cell_type": "markdown",
   "id": "449db6e6-0c16-4adb-aa2c-5dba3524ba34",
   "metadata": {},
   "source": [
    "### Codici per l'interpolazione polinomiale nella forma di Lagrange \n",
    "\n",
    "Scrivere la function **interpL** che calcoli\n",
    "il polinomio interpolante in forma di Lagrange  \n",
    "Tale function deve assumere come dati in input:\n",
    " \n",
    " - x vettore dei nodi di interpolazione,\n",
    "- y vettore dei valori della funzione nei nodi di interpolazione,\n",
    "- xx vettore dei punti in cui si vuole valutare il polinomio interpolante.\n",
    " \n",
    "In output deve essere restituito yy vettore contenente i valori assunti dal polinomio interpolante.\n",
    "\n",
    " \n",
    "Funzioni Python  utili:\n",
    " \n",
    "-  numpy.poly() restituisce i coefficienti di un polinomio di zeri assegnati,\n",
    " - numpy.polyval(p, x)  valuta un polinomio in un punto assegnato.\n",
    " "
   ]
  },
  {
   "cell_type": "code",
   "execution_count": null,
   "id": "0ec90b81",
   "metadata": {},
   "outputs": [],
   "source": [
    "def plagr(xnodi, j):\n",
    "\n",
    "    xzeri = np.zeros_like(xnodi)\n",
    "    x=xnodi.size\n",
    "\n",
    "    if j==0:\n",
    "        xzeri = xnodi[1:n]\n",
    "    else:\n",
    "        xzeri = np.append(xnodi[0:j], xnodi[j+1:n])\n",
    "    \n",
    "    num = np.poly(xzeri)\n",
    "    den = np.polyval(num, xnodi[j])\n",
    "\n",
    "    p = num/den\n",
    "\n",
    "    return p"
   ]
  },
  {
   "cell_type": "code",
   "execution_count": null,
   "id": "30e1d80f",
   "metadata": {},
   "outputs": [],
   "source": [
    "def InterpL(x,y,xv):\n",
    "    n = x.size\n",
    "    nv = xv.size\n",
    "    L = np.zeros((nv,n))\n",
    "\n",
    "    for j in range(n):\n",
    "        p = plagr(x, j)\n",
    "        L[:,j] = np.polyval(p,xv)\n",
    "\n",
    "    return L@y"
   ]
  },
  {
   "cell_type": "markdown",
   "id": "f7d15360-78df-45b5-96a7-4e7204dd7370",
   "metadata": {},
   "source": [
    "## Esercizio 1\n",
    "\n",
    "Realizzare uno script che calcoli nella forma di Lagrange i polinomi che\n",
    "interpolano le funzioni test $\\sin(x)$ e $\\cos(x)$ nei punti $x_k = k \\pi/2$, con\n",
    "$k = 0, 1, 2, 3, 4$. Visualizzare graficamente i polinomi ottenuti insieme\n",
    "alle funzioni assegnate."
   ]
  },
  {
   "cell_type": "markdown",
   "id": "f877f517-524c-4f81-9310-3fd5d4833983",
   "metadata": {},
   "source": [
    "## Esercizio 2\n",
    "Realizzare uno script python che interpola le coppie $x_i,y_i$, $i=0,\\cdots,3$\n",
    "dove $x_i,i=0,3$ sono punti equidistanti nell' intervallo [-1,1] e $y_i=f(x_i)$ dove $f(x)=3x^3+2x^2+2x-1$ "
   ]
  },
  {
   "cell_type": "code",
   "execution_count": 75,
   "id": "4d608897",
   "metadata": {},
   "outputs": [
    {
     "data": {
      "text/plain": [
       "[<matplotlib.lines.Line2D at 0x7f1ac4d11290>,\n",
       " <matplotlib.lines.Line2D at 0x7f1ac4cbcc90>]"
      ]
     },
     "execution_count": 75,
     "metadata": {},
     "output_type": "execute_result"
    },
    {
     "data": {
      "image/png": "[encoded data removed]",
      "text/plain": [
       "<Figure size 640x480 with 1 Axes>"
      ]
     },
     "metadata": {},
     "output_type": "display_data"
    }
   ],
   "source": [
    "n = 3\n",
    "x = np.linspace(-1, 1, n+1)\n",
    "f = lambda x: 3*x**3+2*x**2+2*x-1\n",
    "y= f(x)\n",
    "xv = np.linspace(-1,1,200)\n",
    "pol_interpL = InterpL(x,y,xv)\n",
    "plt.plot(xv, pol_interpL, x, y, \"ro\")\n"
   ]
  },
  {
   "cell_type": "markdown",
   "id": "972b7453-92d5-41a5-bde1-89c38c04ed69",
   "metadata": {},
   "source": [
    "## Esercizio 3\n",
    "\n",
    "La temperatura $T$ in  prossimità  del suolo  subisce una variazione dipendente dalla latitudine $L$ nel seguente modo\n",
    "\n",
    "L=np.array([-55, -45, -35, -25, -15, -5, 5, 15, 25, 35, 45, 55, 65])\n",
    "\n",
    "T=np.array([3.7, 3.7,3.52,3.27, 3.2, 3.15, 3.15, 3.25, 3.47, 3.52, 3.65, 3.67, 3.52])\n",
    "\n",
    "\n",
    " \n",
    "- Si vuole costruire un modello che descriva la legge $T = T(L)$ anche per latitudini non misurate. A tal fine si scriva uno script che fornisca la variazione di temperatura alle latitudini $L = \\pm 42$ utilizzando il polinomio interpolante. Visualizzare in un grafico i dati assegnati, il polinomio interpolante e le stime di $T$ ottenute per $L = \\pm 42$.\n"
   ]
  },
  {
   "cell_type": "markdown",
   "id": "6d77f81a-8fe4-4643-9eeb-8a4569f12cc8",
   "metadata": {},
   "source": [
    "## Esercizio 4 \n",
    "\n",
    "Scrivere uno script che calcoli il polinomio interpolante un insieme di punti $P_i =(x_i, y_i)$ $i = 0, ..., n $ nella forma di Lagrange con $x_i$ scelti dall'utente come:\n",
    "    - punti equidistanti in un intervallo $[a, b]$,\n",
    "    - punti definiti dai nodi di Chebyshev nell'intervallo $[a, b]$, ossia\n",
    "$$\n",
    "x_i = \\frac{(a + b)}{2}+\\frac{(b-a)}{2} \\, \\cos \\left(\n",
    "\\frac{(2i+1)\\pi}{2(n + 1)}\n",
    "\\right), \\quad  i =0, ..., n \n",
    "$$\n",
    " \n",
    "  e $y_i = f(x_i)$ ottenuti dalla valutazione nei punti $x_i$ di una funzione test   $f: \\ [a, b] \\rightarrow {\\mathbb R}$. Testare lo script sulle funzioni\n",
    " \n",
    "  - $f(x) = \\sin(x)-2 \\sin(2x)$,   $ \\quad x \\in [-\\pi,\\pi]$,\n",
    "  -  $f(x) = \\sinh(x)$, $ \\quad  x \\in [-2, 2]$,\n",
    "  - $f(x) = |x|$,  $ \\quad x \\in [-1, 1]$,\n",
    "  - $f(x) = 1/(1+25*x^2)$,  $ \\quad x \\in [-1, 1]$ (funzione di Runge).\n",
    "\n",
    "Calcolare l'errore di interpolazione $r(x) = f(x)-p(x)$,\n",
    "tra la funzione test $f(x)$ e il polinomio di interpolazione $p(x)$.\n",
    "Visualizzare il grafico di $f(x)$ e $p(x)$, ed il grafico di\n",
    "$|r(x)|$. Cosa si osserva? Cosa accade all'aumentare del grado $n$ di $p(x)$?\n",
    "(Si costruisca una tabella che riporti i valori di $\\|r(x)\\|_{\\infty}$ al variare di $n$)."
   ]
  },
  {
   "cell_type": "markdown",
   "id": "d35dfb04-023a-4ccd-803a-caffd3d1e38c",
   "metadata": {},
   "source": [
    "## Esercizio 5\n",
    "\n",
    "Per $n = 5, 10, 15, 20$ fornire un'approssimazione della costante di Lebesgue\n",
    "scegliendo $x_1, x_2, ..., x_{n+1}$ equispaziati in $[-1, 1]$ oppure coincidenti con\n",
    "i nodi di Chebyshev $x_i = \\cos \\left(\\frac{(2i-1)\\pi}{2(n + 1)}  \\right)$, $i =1, ..., n + 1$."
   ]
  },
  {
   "cell_type": "markdown",
   "id": "6c9c9adf-ba6e-4c00-9ee5-d835c83abe01",
   "metadata": {},
   "source": [
    "## Esercizio 6\n",
    "\n",
    "Si interpolino mediante il polinomio $p_{21}(x)$ i 22 punti $(x_i, y_i)$ con $x_i$ equispaziati in $[-1, 1]$ e $y_i = \\sin(2 \\pi x_i)$. Si considerino poi le ordinate $\\tilde{y}_i = y_i + \\varepsilon_i$, dove $\\varepsilon_i$ denota l'$i$-esima componente del vettore $0.0002*np.random.random(22,)$, e si calcoli il corrispondente\n",
    "polinomio interpolante $\\tilde{p}_{21}(x)$. Si visualizzino e si commentino\n",
    "i risultati ottenuti, calcolando anche l'errore relativo sul polinomio interpolante\n",
    "e sui dati.\n"
   ]
  }
 ],
 "metadata": {
  "kernelspec": {
   "display_name": "Python 3 (ipykernel)",
   "language": "python",
   "name": "python3"
  },
  "language_info": {
   "codemirror_mode": {
    "name": "ipython",
    "version": 3
   },
   "file_extension": ".py",
   "mimetype": "text/x-python",
   "name": "python",
   "nbconvert_exporter": "python",
   "pygments_lexer": "ipython3",
   "version": "3.11.7"
  }
 },
 "nbformat": 4,
 "nbformat_minor": 5
}
