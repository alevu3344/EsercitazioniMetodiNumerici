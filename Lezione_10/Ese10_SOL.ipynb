{
 "cells": [
  {
   "cell_type": "markdown",
   "id": "c33c02f5-a85e-4689-bcba-9a00a03dab3c",
   "metadata": {},
   "source": [
    "# Esercitazione 10\n",
    "7 Maggio 2024"
   ]
  },
  {
   "cell_type": "markdown",
   "id": "f6b59003-c255-41cb-b711-67609181c39e",
   "metadata": {},
   "source": [
    "### Codice EquazioniNormali\n",
    "Implementare la function  **eqnorm(A,b)** che implementa il metodo delle equazioni normali per la soluzione del sistema sovradeterminato Ax=b e che prende in input:\n",
    "- la matrice A di dimensione $m \\times n$ , $m>n$\n",
    "- il termine noto b di ordine m\n",
    "restituisce in output\n",
    "- la soluzione del sistema lineare "
   ]
  },
  {
   "cell_type": "code",
   "execution_count": 25,
   "id": "214294b2-3d64-4b28-85a7-46440d6a0bf7",
   "metadata": {},
   "outputs": [],
   "source": [
    "import numpy as np\n",
    "import scipy.linalg as spLin\n",
    "import SolveTriangular\n",
    "import matplotlib.pyplot as plt"
   ]
  },
  {
   "cell_type": "code",
   "execution_count": 26,
   "id": "e56deff8-c102-4a54-8b84-5e42c1cf6dfa",
   "metadata": {},
   "outputs": [],
   "source": [
    "def eqnorm(A,b):\n",
    " \n",
    "    G=A.T@A\n",
    "    condG=np.linalg.cond(G) \n",
    "    print(\"Indice di condizionamento di G \",condG)\n",
    "    f=A.T@b\n",
    "    \n",
    "    L=spLin.cholesky(G,lower=True)\n",
    "    U=L.T\n",
    "        \n",
    "   \n",
    "    z,flag=SolveTriangular.Lsolve(L,f)\n",
    "    if flag==0:\n",
    "        x,flag=SolveTriangular.Usolve(U,z)\n",
    "    \n",
    "    \n",
    "    return x\n",
    "    \n",
    "    "
   ]
  },
  {
   "cell_type": "markdown",
   "id": "cdd19909-e613-455a-a98e-dd5e8175a835",
   "metadata": {},
   "source": [
    "### Codice QRLS\n",
    "Implementare la function  **qrLS(A,b)** che utilizza il metodo QR per la soluzione del sistema sovradeterminato Ax=b e che prende in input:\n",
    "- la matrice A di dimensione $m \\times n$ , $m>n$\n",
    "- il termine noto b di ordine m\n",
    "restituisce in output\n",
    "- la soluzione del sistema lineare e la norma 2 al quadrato del residuo."
   ]
  },
  {
   "cell_type": "code",
   "execution_count": 27,
   "id": "644b07ea-6fe8-4db6-a578-dac84ffb281e",
   "metadata": {},
   "outputs": [],
   "source": [
    "def qrLS(A,b):\n",
    "    n=A.shape[1]  # numero di colonne di A\n",
    "    Q,R=spLin.qr(A)\n",
    "    h=Q.T@b\n",
    "    x,flag=SolveTriangular.Usolve(R[0:n,:],h[0:n])\n",
    "    residuo=np.linalg.norm(h[n:])**2\n",
    "    return x,residuo"
   ]
  },
  {
   "cell_type": "markdown",
   "id": "5efe494f-3f53-4dfb-8601-fcee7f691691",
   "metadata": {},
   "source": [
    "### Codice SVDLS\n",
    "Implementare la function  **svdLS(A,b)** che utilizza  il metodo SVD per la soluzione del sistema sovradeterminato Ax=b e che prende in input:\n",
    "- la matrice A di dimensione $m \\times n$ , $m>n$\n",
    "- il termine noto b di ordine m\n",
    "restituisce in output\n",
    "- la soluzione del sistema lineare e la norma 2 al quadrato del residuo."
   ]
  },
  {
   "cell_type": "code",
   "execution_count": 28,
   "id": "59eec469-2725-4917-87c9-0c1d170c5284",
   "metadata": {},
   "outputs": [],
   "source": [
    "def SVDLS(A,b):\n",
    "    m,n=A.shape  #numero di righe e  numero di colonne di A\n",
    "    U,s,VT=spLin.svd(A)  #Attenzione : Restituisce U, il numpy-array 1d che contiene la diagonale della matrice Sigma e VT=VTrasposta)\n",
    "    #Quindi \n",
    "    V=VT.T\n",
    "    thresh=np.spacing(1)*m*s[0] ##Calcolo del rango della matrice, numero dei valori singolari maggiori di una soglia\n",
    "    k=np.count_nonzero(s>thresh)\n",
    "    print(\"rango=\",k)\n",
    "    d=U.T@b\n",
    "    d1=d[:k].reshape(k,1)\n",
    "    s1=s[:k].reshape(k,1)\n",
    "    #Risolve il sistema diagonale di dimensione kxk avene come matrice dei coefficienti la matrice Sigma\n",
    "    c=d1/s1\n",
    "    x=V[:,:k]@c \n",
    "    residuo=np.linalg.norm(d[k:])**2\n",
    "    return x,residuo\n",
    "     \n"
   ]
  },
  {
   "cell_type": "markdown",
   "id": "12228038-aafe-45b0-803b-8ad5d3a2925c",
   "metadata": {},
   "source": [
    "## Esercizio 1\n",
    "- Si utilizzino i tre metodi implementati  per l'approssimazione ai minimi quadrati delle seguenti configurazioni di dati:\n",
    "\n",
    "$$\n",
    "\\begin{array}{l}\n",
    "x_1 = [-3.5, \\, -3, \\, -2, \\, -1.5, \\, -0.5, \\, 0.5, \\, 1.7, \\, 2.5, \\, 3] ;\\\\\n",
    "y_1 = [-3.9, \\, -4.8, \\, -3.3, \\, -2.5, \\, 0.3, \\, 1.8, \\, 4, \\, 6.9, \\, 7.1] ;\\\\\n",
    "x_2 = [-3.14, \\, -2.4, \\, -1.57, \\, -0.7, \\, -0.3, \\, 0, \\, 0.4, \\, 0.7, \\, 1.57] ;\\\\\n",
    "y_2 = [0.02, \\, -1, \\, -0.9, \\, -0.72, \\, -0.2, \\, -0.04, \\, 0.65, \\, 0.67, \\, 1.1] ;\\\\\n",
    "x_3 = [[1.001,\\, 1.004,\\, 1.005,\\,1.0012, \\,1.0013,  \\, 1.0014,  \\, 1.0015, \\, 1.0016] ;\\\\\n",
    "y_3 = [-1.2, \\, -0.95, \\, -0.9, \\, -1.15, \\, -1.1, \\, -1] ;\\\\\n",
    "\\end{array}\n",
    "$$\n",
    "\n",
    "al variare del grado $n$ tra 1 e 4.\n",
    "\n"
   ]
  },
  {
   "cell_type": "code",
   "execution_count": 29,
   "id": "07c9efcb-ed44-4971-9e16-f054f9d8cc24",
   "metadata": {},
   "outputs": [
    {
     "name": "stdout",
     "output_type": "stream",
     "text": [
      "Indice di condizionamento di G  5.27297104169736\n",
      "rango= 2\n",
      "Alpha EQN =  [[1.21492318]\n",
      " [1.90511021]]\n",
      "Alpha QR =  [[1.21492318]\n",
      " [1.90511021]]\n",
      "Alpha SVD =  [[1.21492318]\n",
      " [1.90511021]]\n",
      "Residuo EQN  4.954617839084975\n",
      "residuo QR  4.954617839084981\n",
      "Residuo SVD  4.954617839084981\n"
     ]
    },
    {
     "data": {
      "image/png": "[encoded data removed]",
      "text/plain": [
       "<Figure size 640x480 with 1 Axes>"
      ]
     },
     "metadata": {},
     "output_type": "display_data"
    }
   ],
   "source": [
    "x= np.array([-3.5,-3, -2, -1.5, -0.5, 0.5, 1.7, 2.5, 3]) \n",
    "y = np.array([-3.9,-4.8,-3.3,-2.5, 0.3,1.8,4,6.9,7.1])\n",
    "#x=np.array( [-3.14,  -2.4,  -1.57,  -0.7,  -0.3,  0,  0.4,  0.7,  1.57]  )\n",
    "#y=np.array(  [0.02,  -1, -0.9,   -0.72,   -0.2,   -0.04,  0.65,   0.67,   1.1] )\n",
    "#x  = np.array([1.001, 1.004, 1.005,1.0012, 1.0013,   1.0014,   1.0015,  1.0016])\n",
    "#y  = np.array([-1.2,-1.0, -0.98,-0.95,-0.9, -1.15, -1.1, -1])\n",
    "m=x.shape[0]\n",
    "n=1  #grado del polinomio di regressione\n",
    "n1=n+1  # gradi di libertà\n",
    "A=np.vander(x,increasing=True)[:,:n1]\n",
    "alpha_EQN=eqnorm(A,y)\n",
    "residuo_eqn=np.linalg.norm(A@alpha_EQN-y.reshape(m,1))**2\n",
    "\n",
    "alpha_QR,residuo_QR=qrLS(A,y)\n",
    "alpha_SVD,residuo_SVD=SVDLS(A,y)\n",
    "\n",
    "\n",
    "\n",
    "\n",
    "print(\"Alpha EQN = \", alpha_EQN)\n",
    "print(\"Alpha QR = \", alpha_QR)\n",
    "print(\"Alpha SVD = \", alpha_SVD)\n",
    "\n",
    "print(\"Residuo EQN \",residuo_eqn)\n",
    "print(\"residuo QR \",residuo_QR)\n",
    "print(\"Residuo SVD \",residuo_SVD)\n",
    "xv=np.linspace(np.min(x),np.max(x),100)\n",
    "pol_EQN=np.polyval(np.flip(alpha_EQN),xv)\n",
    "pol_QR=np.polyval(np.flip(alpha_QR),xv)\n",
    "pol_SVD=np.polyval(np.flip(alpha_SVD),xv)\n",
    "plt.plot(x,y,'ro',xv,pol_QR,xv,pol_SVD)\n",
    "plt.show()\n"
   ]
  },
  {
   "cell_type": "markdown",
   "id": "a2b6044f-2076-4979-be19-4584ae4857c6",
   "metadata": {},
   "source": [
    "## Esercizio 2: \n",
    "Per i dati $(x_i, y_i)$ riportati nei seguenti array\n",
    "\n",
    "$$\n",
    "\\begin{array}{l}\n",
    "x = [0.0004, \\, 0.2507, \\, 0.5008, \\, 2.0007, \\, 8.0013]  ;\\\\\n",
    "y = [0.0007, \\, 0.0162, \\, 0.0288, \\, 0.0309, \\, 0.0310] ;\n",
    "\\end{array}\n",
    "$$\n",
    "\n",
    "- costruire la retta di regressione;\n",
    "- costruire la parabola approssimante i dati nel senso dei minimi quadrati;\n",
    "\n",
    "Quale tra le due approssimazioni risulta la migliore? (Confrontare i grafici e la norma euclidea al quadrato del vettore dei residui).\n",
    "\n"
   ]
  },
  {
   "cell_type": "code",
   "execution_count": 30,
   "id": "850478c3-70cc-4811-94e9-aa41f8ea4b20",
   "metadata": {},
   "outputs": [
    {
     "name": "stdout",
     "output_type": "stream",
     "text": [
      "condizionamento di A2  4.663457775986457\n",
      "Indice di condizionamento di G  21.747838428408542\n"
     ]
    },
    {
     "data": {
      "image/png": "[encoded data removed]",
      "text/plain": [
       "<Figure size 640x480 with 1 Axes>"
      ]
     },
     "metadata": {},
     "output_type": "display_data"
    },
    {
     "name": "stdout",
     "output_type": "stream",
     "text": [
      "residuo eqn  0.0004848327762313227\n"
     ]
    }
   ],
   "source": [
    "x2=np.array([0.0004,0.2507,0.5008,2.0007, 8.0013])\n",
    "y2=np.array([0.0007,0.0162,0.0288, 0.0309,0.0310])\n",
    "m=x2.shape[0]\n",
    "n=1 #retta di regressione: grado 1\n",
    "n1=n+1  # gradi di libertà\n",
    "A2=np.vander(x2,increasing=True)[:,:n1]\n",
    "condA2=np.linalg.cond(A2)\n",
    "print(\"condizionamento di A2 \",condA2)\n",
    "#Poichè la matrice A è ben condizionata uso il metodo delle equazioni normali,\n",
    "#la matrice G=A.T@A avrà un indice di condizionamento K(A)^2 contenuto\n",
    "alpha2=eqnorm(A2,y2)\n",
    "xv=np.linspace(np.min(x2),np.max(x2),100)\n",
    "pol2=np.polyval(np.flip(alpha2),xv)\n",
    "plt.plot(xv,pol2,x2,y2,'ro')\n",
    "plt.show()\n",
    "residuo_eqn=np.linalg.norm(A2@alpha2-y2.reshape(m,1))**2\n",
    "print(\"residuo eqn \",residuo_eqn)"
   ]
  },
  {
   "cell_type": "code",
   "execution_count": 31,
   "id": "7528b129-7838-4964-b055-4d6cfc15ffb2",
   "metadata": {},
   "outputs": [
    {
     "name": "stdout",
     "output_type": "stream",
     "text": [
      "condizionamento di A2  65.6749352562479\n"
     ]
    },
    {
     "data": {
      "image/png": "[encoded data removed]",
      "text/plain": [
       "<Figure size 640x480 with 1 Axes>"
      ]
     },
     "metadata": {},
     "output_type": "display_data"
    },
    {
     "name": "stdout",
     "output_type": "stream",
     "text": [
      "residuo  0.0002364635594024983\n"
     ]
    }
   ],
   "source": [
    "n=2 #parabola di regressione: grado 2\n",
    "n1=n+1  # gradi di libertà\n",
    "A2=np.vander(x2,increasing=True)[:,:n1]\n",
    "condA2=np.linalg.cond(A2)\n",
    "print(\"condizionamento di A2 \",condA2)\n",
    "#Poichè la matrice è mediamente ben condizionata (Ha un indice di condizionamento pari a  65.67493525624782\n",
    "# (quinfi A.T@A avrà indice di condizionamento pari al quadrato dell'indice di condionamento di A)\n",
    "#è quindi preferibile usare il metodo QR\n",
    "alpha2,residuo_QR=qrLS(A2,y2)\n",
    "xv=np.linspace(np.min(x2),np.max(x2),100)\n",
    "pol2=np.polyval(np.flip(alpha2),xv)\n",
    "plt.plot(xv,pol2,x2,y2,'ro')\n",
    "plt.show()\n",
    "print(\"residuo \",residuo_QR)"
   ]
  },
  {
   "cell_type": "markdown",
   "id": "bea991a1-bdea-4496-98ac-4057a3feed66",
   "metadata": {},
   "source": [
    "## Esercizio 3:\n",
    "Scrivere uno script Python per approssimare la seguente configurazione di punti\n",
    "\n",
    "$$\n",
    "\\begin{array}{l}\n",
    "x = [10 \\, : \\, 0.5/5 \\, : \\, 10.5] ;\\\\\n",
    "y = [11.0320, \\, 11.1263, \\, 11.1339, \\, 11.1339, \\, 11.1993, \\, 11.1844] ;\n",
    "\\end{array}\n",
    "$$\n",
    "\n",
    "mediante un polinomio ai minimi quadrati di grado 4 costruito  con il metodo\n",
    "delle equazioni normali, con il metodo QRLS e con il metodo SVDLS.\n",
    "Perturbare poi il secondo punto nel seguente modo\n",
    "$$x(1) = x(1) + 0.013; \\quad y(1) = y(1) - 0.001;$$\n",
    "e calcolare i polinomi ai minimi quadrati relativi alla\n",
    "configurazione perturbata. Commentare e motivare i risultati ottenuti.\n",
    "\n"
   ]
  },
  {
   "cell_type": "code",
   "execution_count": 32,
   "id": "37176986-7457-422d-b14b-9fa180cd648e",
   "metadata": {},
   "outputs": [],
   "source": [
    "x3=np.arange(10,10.6,0.5/5)\n",
    "y3 =np.array([11.0320,11.1263,11.1339,11.1339,11.1993,11.1844])"
   ]
  },
  {
   "cell_type": "code",
   "execution_count": 33,
   "id": "f8314ab0-9ca1-48b4-8b25-b36db0bd2011",
   "metadata": {},
   "outputs": [
    {
     "name": "stdout",
     "output_type": "stream",
     "text": [
      "condizionamento di A3  356547012997.1385\n",
      "Indice di condizionamento di G  1.7553532258796628e+20\n",
      "residuo eqn 0.0015167608359053083 0.0015167608359053083\n",
      "residuo qr 0.0001793601604944298\n",
      "rango= 5\n",
      "residuo  svd 0.00017936005855011229\n"
     ]
    },
    {
     "data": {
      "image/png": "[encoded data removed]",
      "text/plain": [
       "<Figure size 640x480 with 1 Axes>"
      ]
     },
     "metadata": {},
     "output_type": "display_data"
    }
   ],
   "source": [
    "m=x3.size\n",
    "n=4 # grado del polinomio di regressione: 4\n",
    "n1=n+1  # gradi di libertà\n",
    "A3=np.vander(x3,increasing=True)[:,:n1]\n",
    "condA3=np.linalg.cond(A3)\n",
    "print(\"condizionamento di A3 \",condA3)\n",
    "alpha3_eqn=eqnorm(A3,y3)\n",
    "xv=np.linspace(np.min(x3),np.max(x3),100)\n",
    "pol3_eqn=np.polyval(np.flip(alpha3_eqn),xv)\n",
    "plt.plot(xv,pol3_eqn,x3,y3,'ro')\n",
    "errore_eqn=np.linalg.norm(A3@alpha3_eqn-y3.reshape(m,1))**2\n",
    "print(\"residuo eqn\",errore_eqn,errore_eqn)\n",
    "alpha3_qr,residuo_qr=qrLS(A3,y3)\n",
    "pol3_qr=np.polyval(np.flip(alpha3_qr),xv)\n",
    "print(\"residuo qr\",residuo_qr)\n",
    "plt.plot(xv,pol3_qr,'b')\n",
    "\n",
    "alpha3_svd,residuo_svd=SVDLS(A3,y3)\n",
    "pol3_svd=np.polyval(np.flip(alpha3_svd),xv)\n",
    "print(\"residuo  svd\",residuo_svd)\n",
    "plt.plot(xv,pol3_svd,'m')\n",
    "plt.legend(['Equazioni Normali','Osservazioni','QRLS','SVDLS'])\n",
    "plt.show()\n",
    "#A causa dell'elevato mal condizionamento di G il metodo delle equazioni normali non approssima i dati in maniera \n",
    "# accurata (errore maggiore rispetto agli altri due metodi, che forniscono la stess accuratezza (grafici sovrapposti))"
   ]
  },
  {
   "cell_type": "code",
   "execution_count": 34,
   "id": "a85577fb-ea94-40f4-9b70-00afe26d01bf",
   "metadata": {},
   "outputs": [],
   "source": [
    "#Ricalcolo il polimonio di grado 4 a partire da dati perturbati come richiesto dall'esercizio\n",
    "x3p=x3.copy()\n",
    "x3p[1]= x3p[1] + 0.013\n",
    "y3p=y3.copy()\n",
    "y3p[1] = y3p[1] - 0.001"
   ]
  },
  {
   "cell_type": "code",
   "execution_count": 35,
   "id": "001cab78-b15b-4693-9a68-bdc58e5568d1",
   "metadata": {},
   "outputs": [
    {
     "name": "stdout",
     "output_type": "stream",
     "text": [
      "condizionamento di A3  380506144417.48584\n",
      "residuo qr 0.00020144369415317243\n",
      "rango= 5\n",
      "residuo svd 0.00020144362519375862\n",
      "Indice di condizionamento di G  1.9323872671210885e+19\n"
     ]
    },
    {
     "ename": "LinAlgError",
     "evalue": "5-th leading minor of the array is not positive definite",
     "output_type": "error",
     "traceback": [
      "\u001b[0;31m---------------------------------------------------------------------------\u001b[0m",
      "\u001b[0;31mLinAlgError\u001b[0m                               Traceback (most recent call last)",
      "Cell \u001b[0;32mIn[35], line 18\u001b[0m\n\u001b[1;32m     16\u001b[0m plt\u001b[38;5;241m.\u001b[39mlegend([\u001b[38;5;124m'\u001b[39m\u001b[38;5;124mQRLS\u001b[39m\u001b[38;5;124m'\u001b[39m,\u001b[38;5;124m'\u001b[39m\u001b[38;5;124mOsservazioni\u001b[39m\u001b[38;5;124m'\u001b[39m,\u001b[38;5;124m'\u001b[39m\u001b[38;5;124mSVDLS\u001b[39m\u001b[38;5;124m'\u001b[39m])\n\u001b[1;32m     17\u001b[0m \u001b[38;5;66;03m#Utilizzo del metodo equazioni normali\u001b[39;00m\n\u001b[0;32m---> 18\u001b[0m alpha3_eqn\u001b[38;5;241m=\u001b[39meqnorm(A3,y3p)\n\u001b[1;32m     19\u001b[0m xv\u001b[38;5;241m=\u001b[39mnp\u001b[38;5;241m.\u001b[39mlinspace(np\u001b[38;5;241m.\u001b[39mmin(x3),np\u001b[38;5;241m.\u001b[39mmax(x3),\u001b[38;5;241m100\u001b[39m)\n\u001b[1;32m     20\u001b[0m pol3_eqn\u001b[38;5;241m=\u001b[39mnp\u001b[38;5;241m.\u001b[39mpolyval(np\u001b[38;5;241m.\u001b[39mflip(alpha3_eqn),xv)\n",
      "Cell \u001b[0;32mIn[26], line 8\u001b[0m, in \u001b[0;36meqnorm\u001b[0;34m(A, b)\u001b[0m\n\u001b[1;32m      5\u001b[0m \u001b[38;5;28mprint\u001b[39m(\u001b[38;5;124m\"\u001b[39m\u001b[38;5;124mIndice di condizionamento di G \u001b[39m\u001b[38;5;124m\"\u001b[39m,condG)\n\u001b[1;32m      6\u001b[0m f\u001b[38;5;241m=\u001b[39mA\u001b[38;5;241m.\u001b[39mT\u001b[38;5;129m@b\u001b[39m\n\u001b[0;32m----> 8\u001b[0m L\u001b[38;5;241m=\u001b[39mspLin\u001b[38;5;241m.\u001b[39mcholesky(G,lower\u001b[38;5;241m=\u001b[39m\u001b[38;5;28;01mTrue\u001b[39;00m)\n\u001b[1;32m      9\u001b[0m U\u001b[38;5;241m=\u001b[39mL\u001b[38;5;241m.\u001b[39mT\n\u001b[1;32m     12\u001b[0m z,flag\u001b[38;5;241m=\u001b[39mSolveTriangular\u001b[38;5;241m.\u001b[39mLsolve(L,f)\n",
      "File \u001b[0;32m~/anaconda3/lib/python3.11/site-packages/scipy/linalg/_decomp_cholesky.py:89\u001b[0m, in \u001b[0;36mcholesky\u001b[0;34m(a, lower, overwrite_a, check_finite)\u001b[0m\n\u001b[1;32m     45\u001b[0m \u001b[38;5;28;01mdef\u001b[39;00m \u001b[38;5;21mcholesky\u001b[39m(a, lower\u001b[38;5;241m=\u001b[39m\u001b[38;5;28;01mFalse\u001b[39;00m, overwrite_a\u001b[38;5;241m=\u001b[39m\u001b[38;5;28;01mFalse\u001b[39;00m, check_finite\u001b[38;5;241m=\u001b[39m\u001b[38;5;28;01mTrue\u001b[39;00m):\n\u001b[1;32m     46\u001b[0m \u001b[38;5;250m    \u001b[39m\u001b[38;5;124;03m\"\"\"\u001b[39;00m\n\u001b[1;32m     47\u001b[0m \u001b[38;5;124;03m    Compute the Cholesky decomposition of a matrix.\u001b[39;00m\n\u001b[1;32m     48\u001b[0m \n\u001b[0;32m   (...)\u001b[0m\n\u001b[1;32m     87\u001b[0m \n\u001b[1;32m     88\u001b[0m \u001b[38;5;124;03m    \"\"\"\u001b[39;00m\n\u001b[0;32m---> 89\u001b[0m     c, lower \u001b[38;5;241m=\u001b[39m _cholesky(a, lower\u001b[38;5;241m=\u001b[39mlower, overwrite_a\u001b[38;5;241m=\u001b[39moverwrite_a, clean\u001b[38;5;241m=\u001b[39m\u001b[38;5;28;01mTrue\u001b[39;00m,\n\u001b[1;32m     90\u001b[0m                          check_finite\u001b[38;5;241m=\u001b[39mcheck_finite)\n\u001b[1;32m     91\u001b[0m     \u001b[38;5;28;01mreturn\u001b[39;00m c\n",
      "File \u001b[0;32m~/anaconda3/lib/python3.11/site-packages/scipy/linalg/_decomp_cholesky.py:37\u001b[0m, in \u001b[0;36m_cholesky\u001b[0;34m(a, lower, overwrite_a, clean, check_finite)\u001b[0m\n\u001b[1;32m     35\u001b[0m c, info \u001b[38;5;241m=\u001b[39m potrf(a1, lower\u001b[38;5;241m=\u001b[39mlower, overwrite_a\u001b[38;5;241m=\u001b[39moverwrite_a, clean\u001b[38;5;241m=\u001b[39mclean)\n\u001b[1;32m     36\u001b[0m \u001b[38;5;28;01mif\u001b[39;00m info \u001b[38;5;241m>\u001b[39m \u001b[38;5;241m0\u001b[39m:\n\u001b[0;32m---> 37\u001b[0m     \u001b[38;5;28;01mraise\u001b[39;00m LinAlgError(\u001b[38;5;124m\"\u001b[39m\u001b[38;5;132;01m%d\u001b[39;00m\u001b[38;5;124m-th leading minor of the array is not positive \u001b[39m\u001b[38;5;124m\"\u001b[39m\n\u001b[1;32m     38\u001b[0m                       \u001b[38;5;124m\"\u001b[39m\u001b[38;5;124mdefinite\u001b[39m\u001b[38;5;124m\"\u001b[39m \u001b[38;5;241m%\u001b[39m info)\n\u001b[1;32m     39\u001b[0m \u001b[38;5;28;01mif\u001b[39;00m info \u001b[38;5;241m<\u001b[39m \u001b[38;5;241m0\u001b[39m:\n\u001b[1;32m     40\u001b[0m     \u001b[38;5;28;01mraise\u001b[39;00m \u001b[38;5;167;01mValueError\u001b[39;00m(\u001b[38;5;124m'\u001b[39m\u001b[38;5;124mLAPACK reported an illegal value in \u001b[39m\u001b[38;5;132;01m{}\u001b[39;00m\u001b[38;5;124m-th argument\u001b[39m\u001b[38;5;124m'\u001b[39m\n\u001b[1;32m     41\u001b[0m                      \u001b[38;5;124m'\u001b[39m\u001b[38;5;124mon entry to \u001b[39m\u001b[38;5;124m\"\u001b[39m\u001b[38;5;124mPOTRF\u001b[39m\u001b[38;5;124m\"\u001b[39m\u001b[38;5;124m.\u001b[39m\u001b[38;5;124m'\u001b[39m\u001b[38;5;241m.\u001b[39mformat(\u001b[38;5;241m-\u001b[39minfo))\n",
      "\u001b[0;31mLinAlgError\u001b[0m: 5-th leading minor of the array is not positive definite"
     ]
    },
    {
     "data": {
      "image/png": "[encoded data removed]",
      "text/plain": [
       "<Figure size 640x480 with 1 Axes>"
      ]
     },
     "metadata": {},
     "output_type": "display_data"
    }
   ],
   "source": [
    "n=4 # grado del polinomio di regressione: 4\n",
    "n1=n+1  # gradi di libertà\n",
    "A3=np.vander(x3p,increasing=True)[:,:n1]\n",
    "condA3=np.linalg.cond(A3)\n",
    "print(\"condizionamento di A3 \",condA3)\n",
    "#Utilizzo del metodo QR\n",
    "alpha3_qr,residuo_qr=qrLS(A3,y3p)\n",
    "pol3_qr=np.polyval(np.flip(alpha3_qr),xv)\n",
    "print(\"residuo qr\",residuo_qr)\n",
    "plt.plot(xv,pol3_qr,'b',x3p,y3p,'ro')\n",
    "#Utilizzo del metodo svd\n",
    "alpha3_svd,residuo_svd=SVDLS(A3,y3p)\n",
    "pol3_svd=np.polyval(np.flip(alpha3_svd),xv)\n",
    "print(\"residuo svd\",residuo_svd)\n",
    "plt.plot(xv,pol3_svd,'m')\n",
    "plt.legend(['QRLS','Osservazioni','SVDLS'])\n",
    "#Utilizzo del metodo equazioni normali\n",
    "alpha3_eqn=eqnorm(A3,y3p)\n",
    "xv=np.linspace(np.min(x3),np.max(x3),100)\n",
    "pol3_eqn=np.polyval(np.flip(alpha3_eqn),xv)\n",
    "plt.plot(xv,pol3_eqn)\n",
    "residuo_eqn=np.linalg.norm(A3@alpha3_eqn-y3.reshape(m,1))**2\n",
    "print(\"errore eqn\",errore_eqn)\n",
    "\n",
    "plt.show()\n",
    "#SI osserva che a causa dell'elevato indice di condizionamento della matrice A3 (matrice di vandermonde), a causa di una piccola perturbazione sui dati, modifica della coordinata\n",
    "#x[1] (che interviene nel caclolo della materice di Vandermonde) # la matrice G risulta \"numericamente\" non  definita positiva e cholesky dà errore."
   ]
  },
  {
   "cell_type": "markdown",
   "id": "c1ef81f6-040f-4f92-b17d-fbe0158ac7b0",
   "metadata": {},
   "source": [
    "### Codici per l'interpolazione polinomiale nella forma di Lagrange \n",
    "\n",
    "Scrivere la function **interpL** che calcoli\n",
    "il polinomio interpolante in forma di Lagrange  \n",
    "Tale function deve assumere come dati in input:\n",
    " \n",
    " - x vettore dei nodi di interpolazione,\n",
    "- y vettore dei valori della funzione nei nodi di interpolazione,\n",
    "- xx vettore dei punti in cui si vuole valutare il polinomio interpolante.\n",
    " \n",
    "In output deve essere restituito yy vettore contenente i valori assunti dal polinomio interpolante.\n",
    "\n",
    " \n",
    "Funzioni Python  utili:\n",
    " \n",
    "-  numpy.poly() restituisce i coefficienti di un polinomio di zeri assegnati,\n",
    " - numpy.polyval(p, x)  valuta un polinomio in un punto assegnato."
   ]
  },
  {
   "cell_type": "code",
   "execution_count": null,
   "id": "ab97049d-af54-494c-9a0a-f52a6593411f",
   "metadata": {},
   "outputs": [],
   "source": [
    "import numpy as np\n",
    "def plagr(xnodi,j):\n",
    "    \"\"\"\n",
    "    Restituisce i coefficienti del k-esimo pol di\n",
    "    Lagrange associato ai punti del vettore xnodi\n",
    "    \"\"\"\n",
    "    xzeri=np.zeros_like(xnodi)\n",
    "    n=xnodi.size\n",
    "    if j==0:\n",
    "       xzeri=xnodi[1:n]\n",
    "    else:\n",
    "       xzeri=np.append(xnodi[0:j],xnodi[j+1:n])\n",
    "    \n",
    "    num=np.poly(xzeri) \n",
    "    den=np.polyval(num,xnodi[j])\n",
    "    \n",
    "    p=num/den\n",
    "    \n",
    "    return p\n",
    "\n",
    "\n",
    "\n",
    "def InterpL(x, y, xx):\n",
    "     \"\"\"\"\n",
    "        %funzione che determina in un insieme di punti il valore del polinomio\n",
    "        %interpolante ottenuto dalla formula di Lagrange.\n",
    "        % DATI INPUT\n",
    "        %  x  vettore con i nodi dell'interpolazione\n",
    "        %  f  vettore con i valori dei nodi \n",
    "        %  xx vettore con i punti in cui si vuole calcolare il polinomio\n",
    "        % DATI OUTPUT\n",
    "        %  y vettore contenente i valori assunti dal polinomio interpolante\n",
    "        %\n",
    "     \"\"\"\n",
    "     n=x.size\n",
    "     m=xx.size\n",
    "     L=np.zeros((m,n))\n",
    "     for j in range(n):\n",
    "        p=plagr(x,j)\n",
    "        L[:,j]=np.polyval(p,xx)\n",
    "    \n",
    "    \n",
    "     return L@y"
   ]
  },
  {
   "cell_type": "markdown",
   "id": "2b085ab9-f0af-44fd-b38b-f6b1d9a6ac43",
   "metadata": {},
   "source": [
    "## Esercizio 1\n",
    "\n",
    "Realizzare uno script che calcoli nella forma di Lagrange i polinomi che\n",
    "interpolano le funzioni test $\\sin(x)$ e $\\cos(x)$ nei punti $x_k = k \\pi/2$, con\n",
    "$k = 0, 1, 2, 3, 4$. Visualizzare graficamente i polinomi ottenuti insieme\n",
    "alle funzioni assegnate."
   ]
  },
  {
   "cell_type": "code",
   "execution_count": null,
   "id": "f2dc1acf-2888-4c7b-8763-52a13d741565",
   "metadata": {},
   "outputs": [],
   "source": [
    "x=np.arange(0, 2*np.pi+0.1, np.pi/2)\n",
    "y1=np.sin(x)\n",
    "xx=np.arange(0,2*np.pi+0.1,np.pi/40)\n",
    "yy1=InterpL(x,y1,xx)\n",
    "\n",
    "\n",
    "plt.plot(xx,yy1,'b--',x,y1,'*',xx,np.sin(xx),'g-');\n",
    "plt.legend(['interpolante di Lagrange','punti di interpolazione','y=sin(x)']);\n",
    "plt.show()\n",
    "\n",
    "y2=np.cos(x);\n",
    "yy2=InterpL(x,y2,xx);\n",
    "plt.plot(xx,yy2,'r--',x,y2,'*',xx,np.cos(xx),'c-');\n",
    "plt.legend(['interpolante di Lagrange','punti di interpolazione','y=cos(x)']);"
   ]
  },
  {
   "cell_type": "markdown",
   "id": "1fdac4e3-931f-4494-8d23-8f3a712c00d6",
   "metadata": {},
   "source": [
    "## Esercizio 2\n",
    "Realizzare uno script python che interpola le coppie $x_i,y_i$, $i=0,\\cdots,3$\n",
    "dove $x_i,i=0,3$ sono punti equidistanti nell' intervallo [-1,1] e $y_i=f(x_i)$ dove $f(x)=3x^3+2x^2+2x-1$ "
   ]
  },
  {
   "cell_type": "code",
   "execution_count": null,
   "id": "c80f5137-6c29-460d-a0df-92a75ebb6e7f",
   "metadata": {},
   "outputs": [],
   "source": [
    "x=np.linspace(-1,1,4)\n",
    "f= lambda x: 3*x**3+2*x**2+2*x-1\n",
    "y=f(x)\n",
    "xx=np.linspace(-1,1,200)\n",
    "polL=InterpL(x,y ,xx)\n",
    "plt.plot(xx,polL,'r--',x,y,'*',xx,f(xx),'c-');\n",
    "plt.legend(['interpolante di Lagrange','punti di interpolazione','y=3*x**3+2*x**2+2*x-1']);\n",
    "#Poichè i nodi  (xi.yi) sono ottenuti valutando una funzione che è un polinomio di grado 3\n",
    "# (che ha quindi derivata quarta nulle) nei punti xi,i=0,3, è nullo l'errore che si commette quando\n",
    "#alla funzione che ha generato i dati si sostituisce il polinomio interpolatore di grado 3\n",
    "#Vedi formula dell'errore dell'interpolazione polinomiale nelle dispense teoriche"
   ]
  },
  {
   "cell_type": "markdown",
   "id": "625a25e9-def7-481f-bb98-8b022e7d6de2",
   "metadata": {},
   "source": [
    "## Esercizio 3\n",
    "La temperatura $T$ in  prossimità  del suolo  subisce una variazione dipendente dalla latitudine $L$ \n",
    "L=np.array([-55, -45, -35, -25, -15, -5, 5, 15, 25, 35, 45, 55, 65])\n",
    "T=np.array([3.7, 3.7,3.52,3.27, 3.2, 3.15, 3.15, 3.25, 3.47, 3.52, 3.65, 3.67, 3.52])\n",
    "\n",
    "\n",
    " \n",
    "- Si vuole costruire un modello che descriva la legge $T = T(L)$ anche per latitudini non misurate. A tal fine si scriva uno script che fornisca la variazione di temperatura alle latitudini $L = \\pm 42$ utilizzando il polinomio interpolante. Visualizzare in un grafico i dati assegnati, il polinomio interpolante e le stime di $T$ ottenute per $L = \\pm 42$.\n"
   ]
  },
  {
   "cell_type": "code",
   "execution_count": null,
   "id": "a578ca97-b1e3-461a-a094-ae792dcb15c0",
   "metadata": {},
   "outputs": [],
   "source": [
    "L=np.array([-55, -45, -35, -25, -15, -5, 5, 15, 25, 35, 45, 55, 65])\n",
    "T=np.array([3.7, 3.7,3.52,3.27, 3.2, 3.15, 3.15, 3.25, 3.47, 3.52, 3.65, 3.67, 3.52])\n",
    "\n",
    "# punti di valutazione per l'interpolante\n",
    "xx=np.linspace(np.min(L),np.max(L),200);\n",
    "pol=InterpL(L,T,xx);\n",
    "\n",
    "L1=np.array([42])\n",
    "pol42=InterpL(L,T,L1)\n",
    "\n",
    "L2=np.array([-42])\n",
    "pol_42=InterpL(L,T,L2)\n",
    "\n",
    "plt.plot(xx,pol,'b--',L,T,'r*',42,pol42,'og',-42,pol_42,'og');\n",
    "plt.legend(['interpolante di Lagrange','punti di interpolazione','stima 1', 'stima2']);\n",
    "plt.show()\n"
   ]
  },
  {
   "cell_type": "markdown",
   "id": "fafbff11-870f-41ec-9885-d244bafec7a3",
   "metadata": {},
   "source": [
    "## Esercizio 4\n",
    "\n",
    "Scrivere uno script che calcoli il polinomio interpolante un insieme di punti $P_i =(x_i, y_i)$ $i = 0, ..., n $ nella forma di Lagrange con $x_i$ scelti dall'utente come:\n",
    "    - punti equidistanti in un intervallo $[a, b]$,\n",
    "    - punti definiti dai nodi di Chebyshev nell'intervallo $[a, b]$, ossia\n",
    "$$\n",
    "x_i = \\frac{(a + b)}{2}+\\frac{(b-a)}{2} \\, \\cos \\left(\n",
    "\\frac{(2i+1)\\pi}{2(n + 1)}\n",
    "\\right), \\quad  i =0, ..., n \n",
    "$$\n",
    " \n",
    "  e $y_i = f(x_i)$ ottenuti dalla valutazione nei punti $x_i$ di una funzione test   $f: \\ [a, b] \\rightarrow {\\mathbb R}$. Testare lo script sulle funzioni\n",
    " \n",
    "  - $f(x) = \\sin(x)-2 \\sin(2x)$,   $ \\quad x \\in [-\\pi,\\pi]$,\n",
    "  -  $f(x) = \\sinh(x)$, $ \\quad  x \\in [-2, 2]$,\n",
    "  - $f(x) = |x|$,  $ \\quad x \\in [-1, 1]$,\n",
    "  - $f(x) = 1/(1+25*x^2)$,  $ \\quad x \\in [-1, 1]$ (funzione di Runge).\n",
    "\n",
    "Calcolare l'errore di interpolazione $r(x) = f(x)-p(x)$,\n",
    "tra la funzione test $f(x)$ e il polinomio di interpolazione $p(x)$.\n",
    "Visualizzare il grafico di $f(x)$ e $p(x)$, ed il grafico di\n",
    "$|r(x)|$. Cosa si osserva? Cosa accade all'aumentare del grado $n$ di $p(x)$?\n",
    "(Si costruisca una tabella che riporti i valori di $\\|r(x)\\|_{\\infty}$ al variare di $n$).\n"
   ]
  },
  {
   "cell_type": "code",
   "execution_count": null,
   "id": "685b1e6b-54d9-4065-b12b-e8483064048e",
   "metadata": {},
   "outputs": [],
   "source": [
    "def zeri_Cheb(a,b,n):\n",
    "    t1=(a+b)/2\n",
    "    t2=(b-a)/2\n",
    "    diff=[]\n",
    "    x=np.zeros((n+1,))\n",
    "     \n",
    "    for k in range(n+1):\n",
    "        x[k]=t1+t2*np.cos(((2*k+1)/(2*(n+1))*np.pi))\n",
    "    return x\n",
    "\n",
    "def chebishev(a, b, n):\n",
    "    nodes = []\n",
    "    for i in range (0, n):\n",
    "        x = (a+b)/2 + ((b-a)/2)*np.cos(((2*i +1)*np.pi)/(2*(n+1)))\n",
    "        nodes.append(x)\n",
    "        nodes.sort()\n",
    "    return nodes"
   ]
  },
  {
   "cell_type": "code",
   "execution_count": null,
   "id": "40fc6fba-a3c9-4d80-90be-82568c841628",
   "metadata": {},
   "outputs": [],
   "source": [
    "sceltaf=input(\"Scegli funzione \")\n",
    " \n",
    "scelta_funzione = {\n",
    "        '1': [lambda x: np.sin(x)-2*np.sin(2*x),-np.pi, np.pi],\n",
    "        '2': [lambda x: np.sinh(x),-2,2],\n",
    "        '3': [lambda x: np.abs(x), -1,1],\n",
    "        '4': [lambda x: 1/(1+x**2), -5,5]\n",
    "}\n",
    "\n",
    "f,a,b=scelta_funzione.get(sceltaf)\n",
    "\n",
    "sceltap= input(\"Scegli tipo punti : 1(equidistanti) 2(Chebishev)\\n \")\n",
    "\n",
    "n=int(input('Grado del polinomio'))\n",
    "\n",
    "scelta_punti = {\n",
    "        '1': np.linspace(a,b,n+1),\n",
    "        '2': zeri_Cheb(a,b,n)\n",
    "        }\n",
    "\n",
    "x=scelta_punti.get(sceltap)\n",
    "\n",
    "# punti di valutazione per l'interpolante\n",
    "xx=np.linspace(a,b,200);\n",
    "\n",
    "\n",
    "y= f(x)\n",
    "pol=InterpL(x,y,xx);\n",
    "\n",
    "plt.plot(xx,pol,'b--',x,y,'r*',xx,f(xx),'m-');\n",
    "plt.legend(['interpolante di Lagrange','punti di interpolazione','Funzione']);\n",
    "plt.show()\n",
    "\n",
    "r=np.abs(f(xx)-pol)\n",
    "norm_inf_r=np.linalg.norm(r,np.inf)\n",
    "\n",
    "print(\"Norma infinito di r \",norm_inf_r)\n",
    "plt.plot(xx,r,'m-');\n",
    "plt.legend(['Errore']);\n",
    "plt.show()"
   ]
  },
  {
   "cell_type": "markdown",
   "id": "8419dacf-6a82-402f-9414-8a5857a2993e",
   "metadata": {},
   "source": [
    "## Esercizio 5\n",
    "\n",
    "Per $n = 5, 10, 15, 20$ fornire un'approssimazione della costante di Lebesgue\n",
    "scegliendo $x_1, x_2, ..., x_{n+1}$ equispaziati in $[-1, 1]$ oppure coincidenti con\n",
    "i nodi di Chebyshev $x_i = \\cos \\left(\\frac{(2i-1)\\pi}{2(n + 1)}  \\right)$, $i =1, ..., n + 1$."
   ]
  },
  {
   "cell_type": "code",
   "execution_count": null,
   "id": "3c2f59fc-1592-4ad1-82b9-3a39be3dffc2",
   "metadata": {},
   "outputs": [],
   "source": [
    "xx=np.linspace(-1,1,200);\n",
    "LLe=np.zeros((4,1));\n",
    "LLc=np.zeros((4,1));\n",
    "\n",
    "\n",
    "    \n",
    "i=0;\n",
    "for n in range(5,25,5):\n",
    "\n",
    "    #nodi equispaziati\n",
    "    xe=np.linspace(-1,1,n+1)\n",
    "    #nodi di Chebyshev \n",
    "    xc=zeri_Cheb(-1,1,n)\n",
    "    \n",
    "    Le=np.zeros((200,1));\n",
    "    Lc=np.zeros((200,1)); \n",
    "    for l in range (n+1):        \n",
    "        pe=plagr(xe,l);\n",
    "        Le=Le+np.abs(np.polyval(pe,xx))\n",
    "        pc=plagr(xc,l)\n",
    "        Lc=Lc+np.abs(np.polyval(pc,xx))\n",
    "    \n",
    "    LLe[i]=np.max(Le)\n",
    "    LLc[i]=np.max(Lc)\n",
    "    i=i+1\n",
    "   \n",
    "\n",
    "print('Costante di Lebesgue con nodi equispaziati al variare di n: \\n ',LLe)\n",
    "plt.semilogy(range(5,25,5), LLe,range(5,25,5),LLc)\n",
    "plt.legend([\"Costante Lebesgue per punti equidistanti\",\"Costante Lebesgue per Chebyshev\"])\n",
    "\n",
    " \n",
    "print('Costante di Lebesgue con nodi di Chebyshev al variare di n: \\n',LLc)"
   ]
  },
  {
   "cell_type": "markdown",
   "id": "4595dae6-5e51-4e3f-869a-2e60568c79d7",
   "metadata": {},
   "source": [
    "## Esercizio 6\n",
    "\n",
    "Si interpolino mediante il polinomio $p_{21}(x)$ i 22 punti $(x_i, y_i)$ con $x_i$ equispaziati in $[-1, 1]$ e $y_i = \\sin(2 \\pi x_i)$. Si considerino poi le ordinate $\\tilde{y}_i = y_i + \\varepsilon_i$, dove $\\varepsilon_i$ denota l'$i$-esima componente del vettore $0.0002*np.random.random(22,)$, e si calcoli il corrispondente\n",
    "polinomio interpolante $\\tilde{p}_{21}(x)$. Si visualizzino e si commentino\n",
    "i risultati ottenuti, calcolando anche l'errore relativo sul polinomio interpolante\n",
    "e sui dati.\n"
   ]
  },
  {
   "cell_type": "code",
   "execution_count": 37,
   "id": "c6da4440-1831-4e5d-a401-ad082c32e3fd",
   "metadata": {},
   "outputs": [
    {
     "ename": "NameError",
     "evalue": "name 'InterpL' is not defined",
     "output_type": "error",
     "traceback": [
      "\u001b[0;31m---------------------------------------------------------------------------\u001b[0m",
      "\u001b[0;31mNameError\u001b[0m                                 Traceback (most recent call last)",
      "Cell \u001b[0;32mIn[37], line 9\u001b[0m\n\u001b[1;32m      6\u001b[0m y2\u001b[38;5;241m=\u001b[39my2\u001b[38;5;241m+\u001b[39m\u001b[38;5;241m0.0002\u001b[39m\u001b[38;5;241m*\u001b[39mnp\u001b[38;5;241m.\u001b[39mrandom\u001b[38;5;241m.\u001b[39mrandom(\u001b[38;5;241m22\u001b[39m,)\n\u001b[1;32m      8\u001b[0m xx\u001b[38;5;241m=\u001b[39mnp\u001b[38;5;241m.\u001b[39mlinspace(\u001b[38;5;241m-\u001b[39m\u001b[38;5;241m1\u001b[39m,\u001b[38;5;241m1\u001b[39m,\u001b[38;5;241m300\u001b[39m);\n\u001b[0;32m----> 9\u001b[0m pol1\u001b[38;5;241m=\u001b[39mInterpL(x,y1,xx);\n\u001b[1;32m     10\u001b[0m pol2\u001b[38;5;241m=\u001b[39mInterpL(x,y2,xx);\n\u001b[1;32m     14\u001b[0m plt\u001b[38;5;241m.\u001b[39mplot(xx,pol1,\u001b[38;5;124m'\u001b[39m\u001b[38;5;124mb--\u001b[39m\u001b[38;5;124m'\u001b[39m,x,y1,\u001b[38;5;124m'\u001b[39m\u001b[38;5;124mr*\u001b[39m\u001b[38;5;124m'\u001b[39m,xx,f(xx),\u001b[38;5;124m'\u001b[39m\u001b[38;5;124mm-\u001b[39m\u001b[38;5;124m'\u001b[39m);\n",
      "\u001b[0;31mNameError\u001b[0m: name 'InterpL' is not defined"
     ]
    }
   ],
   "source": [
    "f= lambda x: np.sin(2*np.pi*x)\n",
    "x=np.linspace(-1,1,22)\n",
    "y1=f(x);\n",
    "\n",
    "y2=y1.copy()\n",
    "y2=y2+0.0002*np.random.random(22,)\n",
    "\n",
    "xx=np.linspace(-1,1,300);\n",
    "pol1=InterpL(x,y1,xx);\n",
    "pol2=InterpL(x,y2,xx);\n",
    "\n",
    "\n",
    "\n",
    "plt.plot(xx,pol1,'b--',x,y1,'r*',xx,f(xx),'m-');\n",
    "plt.legend(['interpolante di Lagrange','punti di interpolazione','Funzione']);\n",
    "plt.show()\n",
    "\n",
    "plt.plot(xx,pol2,'b--',x,y2,'r*',xx,f(xx),'m-');\n",
    "plt.legend(['interpolante di Lagrange','punti di interpolazione perturbati','Funzione']);\n",
    "plt.show()\n",
    "\n",
    "#errore relativo sui dati\n",
    "errrel_dati=np.linalg.norm(y2-y1,np.inf)/np.linalg.norm(y1,np.inf)\n",
    "\n",
    "#errore relativo sui risultati\n",
    "errrel_risultati=np.linalg.norm(pol2-pol1,np.inf)/np.linalg.norm(pol1,np.inf)\n",
    "\n",
    "print(\"Errore relativo sui dati \",errrel_dati)\n",
    "print(\"Errore relativo sui risultati \",errrel_risultati)"
   ]
  }
 ],
 "metadata": {
  "kernelspec": {
   "display_name": "Python 3 (ipykernel)",
   "language": "python",
   "name": "python3"
  },
  "language_info": {
   "codemirror_mode": {
    "name": "ipython",
    "version": 3
   },
   "file_extension": ".py",
   "mimetype": "text/x-python",
   "name": "python",
   "nbconvert_exporter": "python",
   "pygments_lexer": "ipython3",
   "version": "3.11.7"
  }
 },
 "nbformat": 4,
 "nbformat_minor": 5
}
