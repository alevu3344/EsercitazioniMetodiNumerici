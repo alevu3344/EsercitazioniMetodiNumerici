{
 "cells": [
  {
   "cell_type": "markdown",
   "id": "cb8d7ec5-c308-4c91-8bbf-adad4c51b57f",
   "metadata": {},
   "source": [
    "# Esercizio 1"
   ]
  },
  {
   "cell_type": "markdown",
   "id": "b7c7f021-757d-4cd3-bba5-57ca8bfd4077",
   "metadata": {},
   "source": [
    "Definire i  numpy array a=[1.2, 5.4, 6, 1.59] e b=[5.2, 1.2, 1.5, 2] ed eseguire le seguenti operazioni:\n",
    "  - calcolare la radice quadrata degli elementi di a;\n",
    "   - calcolare 𝑒xp(𝑎/2) ;\n",
    "   - calcolare il vettore somma tra a e b ;\n",
    "   - moltiplicare ogni elemento di a per il corrispondente elemento di b;\n",
    "   - creare un vettore di valori uniformemente equispaziati tra 0 e 30 con passo  0.5;\n",
    "   - creare un vettore di 100 valori uniformemente equispaziati tra 1 e 2.\n",
    "   - usare linspace() per creare un numpy array 2x6 con prima riga di 6 valori uniformi compresi tra 10 e 20 e seconda riga 6 valori     \n",
    "      uniformi compresi tra  20 e 10;\n",
    "   - calcolare il prodotto scalare tra a e b;\n",
    "   - creare la matrice A che ha come righe i vettori a e b ;\n",
    "   - calcolare il prodotto scalare tra i due vettori a e b;\n",
    "   - eseguire il prodotto della matrice A per il vettore b e assegnarlo ad y;\n",
    "   - costruire una matrice diagonale D a partire dal vettore a;"
   ]
  },
  {
   "cell_type": "code",
   "execution_count": 8,
   "id": "35547788",
   "metadata": {},
   "outputs": [
    {
     "name": "stdout",
     "output_type": "stream",
     "text": [
      "[24.9  34.73]\n"
     ]
    }
   ],
   "source": [
    "import numpy as np\n",
    "import math\n",
    "\n",
    "a=np.array([1.2, 5.4, 6, 1.59])\n",
    "b=np.array([5.2, 1.2, 1.5, 2 ])\n",
    "\n",
    "a1 = np.sqrt(a)\n",
    "\n",
    "a2= np.exp(a/2)\n",
    "\n",
    "c= a + b\n",
    "\n",
    "ab = a*b\n",
    "\n",
    "equi30 = np.arange(0,30.5,0.5)\n",
    "\n",
    "equi1_2 = np.linspace(1,2,100)\n",
    "\n",
    "C = np.array([np.linspace(10, 20 , 6), np.linspace(20, 10 , 6)])\n",
    "\n",
    "scalare_a_b = np.dot(a,b)\n",
    "\n",
    "A = np.array([a,b])\n",
    "\n",
    "y = A@b\n",
    "\n",
    "D = np.diag(a)\n",
    "\n",
    "print(y)\n",
    "\n",
    "\n",
    "\n"
   ]
  },
  {
   "cell_type": "markdown",
   "id": "70b6acab-85c5-4783-84e0-999ca8e68bf3",
   "metadata": {},
   "source": [
    "# Esercizio 2"
   ]
  },
  {
   "cell_type": "markdown",
   "id": "31345015-b8ec-4ea0-aaac-598630474855",
   "metadata": {},
   "source": [
    "Costruire  i seguenti Numpy array 2d utilizzando il minor numero di istruzioni possibili"
   ]
  },
  {
   "cell_type": "markdown",
   "id": "ccf86356-d50a-493c-a870-54c5cc1480eb",
   "metadata": {},
   "source": [
    "<img src=\"ese2.png\" width=\"500\">"
   ]
  },
  {
   "cell_type": "code",
   "execution_count": 6,
   "id": "912700ca",
   "metadata": {},
   "outputs": [
    {
     "name": "stdout",
     "output_type": "stream",
     "text": [
      "[[ 2.  0.  0.  1.  2.  3.  4.  5.  6.  7.  8.  9. 10.]\n",
      " [ 0.  2.  0.  1.  2.  3.  4.  5.  6.  7.  8.  9. 10.]\n",
      " [ 0.  0.  2.  1.  2.  3.  4.  5.  6.  7.  8.  9. 10.]]\n"
     ]
    }
   ],
   "source": [
    "import numpy as np\n",
    "\n",
    "A = np.full((3,3), 2)\n",
    "A = np.concatenate((A, np.full((3,1),3)), 1)\n",
    "\n",
    "\n",
    "B1 = np.vstack([np.linspace(1, 10, 10).reshape(1, -1)] * 3)  \n",
    "B = np.hstack((2 * np.eye(3), B1))\n",
    "\n",
    "a=np.ones((4,))*2\n",
    "b=np.ones((3,))*(-1)\n",
    "C= np.diag(a)+np.diag(b,-1)+np.diag(b,1)\n",
    "print(B)"
   ]
  },
  {
   "cell_type": "markdown",
   "id": "10a6c66f-2a62-4697-ab7a-b897fb66bcc9",
   "metadata": {},
   "source": [
    "# Esercizio 3"
   ]
  },
  {
   "cell_type": "markdown",
   "id": "8354e8db-9393-41b5-92bf-7dbd9174a20c",
   "metadata": {},
   "source": [
    "Calcolare la somma dei primi n numeri naturali dispari sia utilizzando un ciclo for che servendosi dell'istruzione sum di numpy."
   ]
  },
  {
   "cell_type": "code",
   "execution_count": 32,
   "id": "87f3103a",
   "metadata": {},
   "outputs": [
    {
     "name": "stdout",
     "output_type": "stream",
     "text": [
      "4\n",
      "4\n"
     ]
    }
   ],
   "source": [
    "import numpy as np\n",
    "\n",
    "n = 4\n",
    "somma = 0\n",
    "\n",
    "for i in range(1, n+1, 2):\n",
    "\n",
    "    somma += i\n",
    "\n",
    "print(somma)\n",
    "\n",
    "a1 = np.array(list(range(1,n+1,2)))\n",
    "sum = np.sum(a1)\n",
    "print(sum)\n",
    "\n"
   ]
  },
  {
   "cell_type": "markdown",
   "id": "76da5e04-e555-4fee-bfd8-2df68d8996c9",
   "metadata": {},
   "source": [
    "# Esercizo 4"
   ]
  },
  {
   "cell_type": "markdown",
   "id": "5ecf31dd-d88c-46f8-b1b4-2e3b5988694e",
   "metadata": {},
   "source": [
    "Scrivere una function Python per generare l'n-esimo termine (n > 2) della successione\n",
    "di Fibonacci. Scrivere poi una function ricorsiva che risolva lo stesso problema\n",
    "e confrontare i tempi di calcolo delle due functions per n = 24."
   ]
  },
  {
   "cell_type": "markdown",
   "id": "35f3a2c2-b450-457d-9c71-5e81d0f6ea1f",
   "metadata": {},
   "source": [
    "Ricordiamo la formula per generare i i numeri di Fibonacci:\n",
    "\n",
    "$$F_0=1$$\n",
    "$$F_1=1$$\n",
    "$$F_n = F_{n-1} + F_{n-2}, \\quad n=2,...$$"
   ]
  },
  {
   "cell_type": "code",
   "execution_count": 6,
   "id": "c4beefd9",
   "metadata": {},
   "outputs": [
    {
     "name": "stdout",
     "output_type": "stream",
     "text": [
      "inf\n"
     ]
    },
    {
     "name": "stderr",
     "output_type": "stream",
     "text": [
      "/home/siralex/Desktop/Metodi_numerici/Lezione_2/fibonacci_files.py:10: RuntimeWarning: overflow encountered in scalar add\n",
      "  f[k] = f[k-1] + f[k-2]\n"
     ]
    }
   ],
   "source": [
    "import time\n",
    "\n",
    "from fibonacci_files import *\n",
    "\n",
    "print(fibonacci(10000))\n"
   ]
  }
 ],
 "metadata": {
  "kernelspec": {
   "display_name": "Python 3 (ipykernel)",
   "language": "python",
   "name": "python3"
  },
  "language_info": {
   "codemirror_mode": {
    "name": "ipython",
    "version": 3
   },
   "file_extension": ".py",
   "mimetype": "text/x-python",
   "name": "python",
   "nbconvert_exporter": "python",
   "pygments_lexer": "ipython3",
   "version": "3.11.7"
  }
 },
 "nbformat": 4,
 "nbformat_minor": 5
}
