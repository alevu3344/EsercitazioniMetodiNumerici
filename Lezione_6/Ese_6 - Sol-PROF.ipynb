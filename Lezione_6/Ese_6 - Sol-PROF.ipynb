{
 "cells": [
  {
   "cell_type": "markdown",
   "id": "6ffd1881-6df4-426e-a962-3a5318513229",
   "metadata": {},
   "source": [
    "Scrivere la function `NewtonRaphson.py`, che implementa il metodo di Newton-Raphson\n",
    "per il calcolo della soluzione di un sistema di equazioni non lineari. \n",
    "\n",
    "Tale function\n",
    "deve assumere come dati in input:\n",
    "- fname: nome della funzione vettoriale di cui calcolare lo zero;\n",
    "- JacName: nome della funzione che calcola lo J acobiano della funzione vettoriale;\n",
    "- X0: vettore contenente le componenti dell'iterato iniziale);\n",
    "- tolx tolleranza  per il test d'arresto sull'incremento\n",
    "        ||X_{k+1}-X_k||/||X_{k}||<= tolx\n",
    "- tolf tolleranza per il test del residuo\n",
    "        ||F(Xk+1)|| <= tolf;\n",
    "- NMAX numero massimo di iterazioni.\n",
    "In output devono essere restituiti il vettore contenente l'approssimazione dello zero x, un vettore contenente l'errore relativo tra due iterati successivi, il numero di iterazioni\n",
    "effettuate, nit.\n"
   ]
  },
  {
   "cell_type": "markdown",
   "id": "593eac55-b48c-4454-b0e8-73338f053717",
   "metadata": {},
   "source": [
    "Risolvere i seguenti tre sistemi non lineari:\n",
    "1) \n",
    "2x0-cos(x1)=0\n",
    "\n",
    "sin(x0)+2x1=0\n",
    "\n",
    "2) \n",
    "x0^2+x1^2-9=0\n",
    "\n",
    "x0^2+x1*2-2=0\n",
    "\n",
    "3) \n",
    "4x0^2+x_1^2^=4\n",
    "\n",
    "x0+x1=sin(x0-x1)\n",
    "\n"
   ]
  },
  {
   "cell_type": "markdown",
   "id": "2c279af1-357d-42ae-9669-d5160b0b6054",
   "metadata": {},
   "source": [
    "Per determinare l'iterato iniziale X 0 , servirsi del metodo grafico per individuare un \n",
    "iterato iniziale nell'intorno della soluzione che si vuole approssimare. Visualizzare le \n",
    "curve di livello corrisponenti a z=O delle due superfici z = fi (x1 ,x2 ) e z = h(x1 , x 2 ) e \n",
    "definire come iterato iniziale un vettore X 0 oppurtuno le cui componenti stanno in un \n",
    "intorno della soluzione (punti di intersezione tra le curve di livello delle due superfici) \n",
    " "
   ]
  },
  {
   "cell_type": "code",
   "execution_count": 1,
   "id": "1941c850-37d5-4f49-b3ed-cde0499dc8b1",
   "metadata": {
    "tags": []
   },
   "outputs": [],
   "source": [
    "import numpy.linalg as npl\n",
    "from mpl_toolkits.mplot3d import Axes3D\n",
    "import numpy as np\n",
    "import matplotlib.pyplot as plt\n",
    "\n",
    "x = np.arange(-4, 4, 0.1)\n",
    "y = np.arange(-4, 4, 0.1)\n",
    "X, Y = np.meshgrid(x, y)\n",
    "\n",
    "scelta_sistema=int(input(\"Scelta sistema\"))\n",
    "\n",
    "if scelta_sistema==1:\n",
    "        \n",
    "\n",
    "        F= lambda x : np.array([\n",
    "            2*x[0] -np.cos(x[1]),\n",
    "            np.sin(x[0])+2*x[1]])\n",
    "        Jac= lambda x: np.array([[2, np.sin(x[1])],[np.cos(x[0]),2]])\n",
    "        Z=2*X -np.cos(Y)\n",
    "        Z1=np.sin(X)+2*Y\n",
    "\n",
    "elif scelta_sistema==2:\n",
    "        \n",
    "        F= lambda x : np.array([\n",
    "            x[0]**2 + x[1]**2-9,\n",
    "            x[0]+x[1]-3,\n",
    "        ])\n",
    "    \n",
    "        Jac= lambda x: np.array([[2*x[0], 2*x[1]],[1,1]])\n",
    "\n",
    "        Z=X**2+Y**2-9\n",
    "        Z1=X+Y-3\n",
    "elif scelta_sistema==3:\n",
    "\n",
    "        F= lambda x : np.array([\n",
    "                    4*x[0]**2+x[1]**2-4,\n",
    "                    x[0]+x[1]-np.sin(x[0]-x[1])\n",
    "                   ])\n",
    "        Jac= lambda x: np.array([[8*x[0], 2*x[1]],[1-np.cos(x[0]-x[1]),1+np.cos(x[0]-x[1])]])\n",
    "        Z=4*X**2+Y**2-4\n",
    "        Z1=X+Y-np.sin(X-Y)\n",
    "\n",
    "# Plotta la superficie direttamente\n",
    "fig = plt.figure()\n",
    "ax = fig.add_subplot(111, projection='3d')\n",
    "\n",
    "# Plotta la superficie\n",
    "ax.plot_surface(X, Y, Z, cmap=plt.cm.viridis)\n",
    "\n",
    "# Mostra il grafico\n",
    "plt.show()\n",
    "\n",
    "fig = plt.figure()\n",
    "ax = fig.add_subplot(111, projection='3d')\n",
    "\n",
    "# Plotta la superficie\n",
    "ax.plot_surface(X, Y, Z1, cmap=plt.cm.viridis)\n",
    "\n",
    "# Mostra il grafico\n",
    "plt.show()\n",
    "\n",
    "        "
   ]
  },
  {
   "cell_type": "code",
   "execution_count": 3,
   "id": "8d07ec71-8b55-47e5-9f65-c893ebb4ebcc",
   "metadata": {
    "tags": []
   },
   "outputs": [
    {
     "data": {
      "image/png": "[encoded data removed]",
      "text/plain": [
       "<Figure size 640x480 with 1 Axes>"
      ]
     },
     "metadata": {},
     "output_type": "display_data"
    }
   ],
   "source": [
    "plt.contour(X, Y, Z, levels=[0], colors='black')\n",
    "plt.contour(X, Y, Z1, levels=[0], colors='red')\n",
    " \n",
    "plt.show()"
   ]
  },
  {
   "cell_type": "code",
   "execution_count": 4,
   "id": "62a83f70-59b3-417a-8140-f42a788c1b6e",
   "metadata": {
    "tags": []
   },
   "outputs": [],
   "source": [
    "def my_newtonSys(fun, jac, x0, tolx, tolf, nmax):\n",
    "\n",
    "  \"\"\"\n",
    "  Funzione per la risoluzione del sistema f(x)=0\n",
    "  mediante il metodo di Newton.\n",
    "\n",
    "  Parametri\n",
    "  ----------\n",
    "  fun : stringa\n",
    "    Nome del file contenente la funzione non lineare.\n",
    "  jac : stringa\n",
    "    Nome del file contenente la matrice Jacobiana della funzione.\n",
    "  x0 : array\n",
    "    Vettore contenente l'approssimazione iniziale della soluzione.\n",
    "  tolx : float\n",
    "    Parametro di tolleranza per l'errore assoluto.\n",
    "  tolf : float\n",
    "    Parametro di tolleranza per l'errore relativo.\n",
    "  nmax : int\n",
    "    Numero massimo di iterazioni.\n",
    "\n",
    "  Restituisce\n",
    "  -------\n",
    "  x : array\n",
    "    Vettore soluzione del sistema (o equazione) non lineare.\n",
    "  it : int\n",
    "    Numero di iterazioni fatte per ottenere l'approssimazione desiderata.\n",
    "  Xm : array\n",
    "    Vettore contenente la norma dell'errore relativo tra due iterati successivi.\n",
    "  \"\"\"\n",
    "\n",
    "  matjac = jac(x0)\n",
    "  print(\"fun(x0)=\",fun(x0))\n",
    "  \n",
    "  if np.linalg.det(matjac) == 0:\n",
    "    print(\"La matrice dello Jacobiano calcolata nell'iterato precedente non è a rango massimo\")\n",
    "    return None, None,None\n",
    "\n",
    "  s = -np.linalg.solve(matjac, fun(x0))\n",
    "  # Aggiornamento della soluzione\n",
    "  it = 1\n",
    "  x1 = x0 + s\n",
    "  fx1 = fun(x1)\n",
    "  print(fun(x0))\n",
    "  print(fun(x1))\n",
    "\n",
    "  Xm = [np.linalg.norm(s, 1)/np.linalg.norm(x1,1)]\n",
    "  \n",
    "  while it <= nmax and np.linalg.norm(fx1, 1) >= tolf and np.linalg.norm(s, 1) >= tolx * np.linalg.norm(x1, 1):\n",
    "    \n",
    "    x0 = x1\n",
    "    it += 1\n",
    "    matjac = jac(x0)\n",
    "    if np.linalg.det(matjac) == 0:\n",
    "            print(\"La matrice dello Jacobiano calcolata nell'iterato precedente non è a rango massimo\")\n",
    "            return None, None,None\n",
    "\n",
    "    # Risolvo il sistema lineare avente come matrice dei coefficienti la\n",
    "    # matrice Jacobiana e come termine noto la Funzione vettoriale F valutata\n",
    "    # in x0\n",
    "    s = -np.linalg.solve(matjac, fun(x0))\n",
    "\n",
    "    # Aggiornamento della soluzione\n",
    "    x1 = x0 + s\n",
    "    fx1 = fun(x1)\n",
    "    Xm.append(np.linalg.norm(s, 1)/np.linalg.norm(x1,1))\n",
    "\n",
    "  return x1, it, Xm"
   ]
  },
  {
   "cell_type": "code",
   "execution_count": 5,
   "id": "ed85c287-ddaf-4e79-bc0e-64feb8269283",
   "metadata": {
    "tags": []
   },
   "outputs": [
    {
     "name": "stdout",
     "output_type": "stream",
     "text": [
      "fun(x0)= [-2.54030231  1.15852902]\n",
      "[-2.54030231  1.15852902]\n",
      "[0.41683489 0.56895121]\n"
     ]
    }
   ],
   "source": [
    "x0=np.array([-1,1])\n",
    "nmax=500\n",
    "xN,contN,XmN= my_newtonSys(F,Jac,x0,1e-10,1e-10,nmax)\n",
    "\n",
    "\n",
    " "
   ]
  },
  {
   "cell_type": "code",
   "execution_count": 6,
   "id": "bcf2e922-3296-4d42-b240-1f9f3aacc158",
   "metadata": {
    "tags": []
   },
   "outputs": [
    {
     "data": {
      "image/png": "[encoded data removed]",
      "text/plain": [
       "<Figure size 640x480 with 1 Axes>"
      ]
     },
     "metadata": {},
     "output_type": "display_data"
    }
   ],
   "source": [
    "plt.contour(X, Y, Z, levels=[0], colors='black')\n",
    "plt.contour(X, Y, Z1, levels=[0], colors='red')\n",
    "plt.plot(xN[0],xN[1],'go')\n",
    "plt.show()"
   ]
  }
 ],
 "metadata": {
  "kernelspec": {
   "display_name": "Python 3 (ipykernel)",
   "language": "python",
   "name": "python3"
  },
  "language_info": {
   "codemirror_mode": {
    "name": "ipython",
    "version": 3
   },
   "file_extension": ".py",
   "mimetype": "text/x-python",
   "name": "python",
   "nbconvert_exporter": "python",
   "pygments_lexer": "ipython3",
   "version": "3.11.7"
  }
 },
 "nbformat": 4,
 "nbformat_minor": 5
}
