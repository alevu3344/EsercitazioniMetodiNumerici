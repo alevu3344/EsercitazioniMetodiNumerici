{
 "cells": [
  {
   "cell_type": "markdown",
   "id": "d2903ef7-4c36-4b4f-b8dd-01fa2f35dfc5",
   "metadata": {},
   "source": [
    "## Esercitazione 8  del    23 Aprile 2024\n"
   ]
  },
  {
   "cell_type": "markdown",
   "id": "f7105091-a87d-4561-bb63-c8ac815faf37",
   "metadata": {},
   "source": [
    "## Condizionamento del problema della soluzione di un sistema lineare"
   ]
  },
  {
   "cell_type": "markdown",
   "id": "2b2f0afd-9374-4f8e-8a7b-eb783ba28fd4",
   "metadata": {},
   "source": [
    "# Esercizio 1\n",
    "- Costruire la matrice di Vandermonde A, generata dal vettore x=[1.0,2.0,...,6.0] utilizzando la funzione np.vander(x, increasing=True) di numpy. \n",
    "- Calcolarne l'indice di condizionamento in norma infinito senza utilizzare la funzione cond di numpy.linalg e poi confrontarne il valore con quello ottenuto utilizzando la funzione.\n",
    "- Considerare il sistema lineare Ax=b  con matrice dei coefficienti A e termine noto costruito in maniera tale che la soluzione esatta sia il vettore x=[1,1,1,1,1,1] (ogni sua componente è 1) e risolverlo usando il metodo solve del modulo linalg di Scipy.\n",
    "- perturbare il vettore dei termini noti della quantità\n",
    "- \n",
    "$$\n",
    "\\delta b = 0.025 \\, \\ast \\,\n",
    "\\left [\n",
    "\\begin{array}{c}\n",
    "1\\\\\n",
    "0\\\\\n",
    "0\\\\\n",
    "0\n",
    "\\end{array}\n",
    "\\right ]\n",
    "$$\n",
    "- Risolvere il sistema con termine noto pertubato $b + \\delta b$ ((usando il metodo solve del modulo linalg di Scipy).\n",
    "- Calcolare l'errore relativo sul termine noto e l'errore relativo sulla soluzione. Cosa si può concludere?\n",
    "\n",
    "N.B. per il calcolo dell'inversa della matrice di A usare la funzione di numpy.linalg.inv(A).\n"
   ]
  },
  {
   "cell_type": "code",
   "execution_count": 2,
   "id": "4cae8207-09d6-4f50-af54-5b51d286a84a",
   "metadata": {},
   "outputs": [],
   "source": [
    "import numpy as np\n",
    "import numpy.linalg as npl\n",
    "import scipy.linalg as spl\n",
    "import matplotlib.pyplot as plt\n",
    "\n",
    "import sys, os\n",
    "sys.path.append(os.path.abspath('../Scheletri'))\n",
    "\n",
    "# Step 2: Import the functions or classes from Schel_FULL\n",
    "import Schel_FULL as sf"
   ]
  },
  {
   "cell_type": "code",
   "execution_count": 3,
   "id": "c7686086-f0b6-4ead-9e31-652884450b28",
   "metadata": {},
   "outputs": [],
   "source": [
    "#Calcolo della norma infinito\n",
    "def mynorma_inf(B):\n",
    "    c=np.sum(np.abs(B),axis=1)  #equivale a sommare gli elementi di tutte le colonne\n",
    "    #(che equivale a fare la somma degli elementi di ogni riga)\n",
    "    n_inf=np.max(c)\n",
    "    return n_inf"
   ]
  },
  {
   "cell_type": "code",
   "execution_count": 4,
   "id": "f2ee4caf-693f-4e38-9418-d6fa5fcf2a3c",
   "metadata": {},
   "outputs": [
    {
     "name": "stdout",
     "output_type": "stream",
     "text": [
      "[[1.000e+00 1.000e+00 1.000e+00 1.000e+00 1.000e+00 1.000e+00]\n",
      " [1.000e+00 2.000e+00 4.000e+00 8.000e+00 1.600e+01 3.200e+01]\n",
      " [1.000e+00 3.000e+00 9.000e+00 2.700e+01 8.100e+01 2.430e+02]\n",
      " [1.000e+00 4.000e+00 1.600e+01 6.400e+01 2.560e+02 1.024e+03]\n",
      " [1.000e+00 5.000e+00 2.500e+01 1.250e+02 6.250e+02 3.125e+03]\n",
      " [1.000e+00 6.000e+00 3.600e+01 2.160e+02 1.296e+03 7.776e+03]]\n",
      "mycond 1.204321e+06\n",
      "condizionamento in norma infinito con numpy 1.204321e+06\n"
     ]
    }
   ],
   "source": [
    "x=np.arange(1.0,7.0)\n",
    "A=np.vander(x, increasing=True)\n",
    "print(A)\n",
    "mycond=mynorma_inf(A)*mynorma_inf(np.linalg.inv(A))\n",
    "print(\"mycond {:e}\".format(mycond))\n",
    "condp=np.linalg.cond(A,np.inf)\n",
    "print(\"condizionamento in norma infinito con numpy {:e}\".format(condp))"
   ]
  },
  {
   "cell_type": "code",
   "execution_count": 5,
   "id": "e45bd345-6596-4d16-b7b5-2d2b8c15291e",
   "metadata": {},
   "outputs": [
    {
     "name": "stdout",
     "output_type": "stream",
     "text": [
      "[[6.000e+00]\n",
      " [6.300e+01]\n",
      " [3.640e+02]\n",
      " [1.365e+03]\n",
      " [3.906e+03]\n",
      " [9.331e+03]]\n"
     ]
    }
   ],
   "source": [
    "#Costruisco il termine noto in maniera tale che la soluzione sia il vettore unitario\n",
    "b=np.sum(A,axis=1).reshape(6,1) #Calcolo la somma degli elementi di ogni riga \n",
    "#Con la scelta di questo termine noto la soluzione esatta è il vettore di tutti 1.\n",
    "print(b)"
   ]
  },
  {
   "cell_type": "code",
   "execution_count": 6,
   "id": "497b5888-a023-47d1-a383-afa4261b515a",
   "metadata": {},
   "outputs": [
    {
     "name": "stdout",
     "output_type": "stream",
     "text": [
      "errore dati  2.679241238881187e-06\n"
     ]
    }
   ],
   "source": [
    "bp=b.copy()\n",
    "bp[0]=bp[0]+0.025  #Perturbo l'elemento di posizione 0 del termine noto di una quantità pari a 0.025\n",
    "errore_dati=np.linalg.norm(bp-b,np.inf)/np.linalg.norm(b,np.inf)\n",
    "print(\"errore dati \",errore_dati)"
   ]
  },
  {
   "cell_type": "code",
   "execution_count": 7,
   "id": "c8b31c9d-0314-48b4-8623-5b270782ad0d",
   "metadata": {},
   "outputs": [
    {
     "name": "stdout",
     "output_type": "stream",
     "text": [
      "Soluzione esatta sistema senza perturbazione \n",
      "  [[1.]\n",
      " [1.]\n",
      " [1.]\n",
      " [1.]\n",
      " [1.]\n",
      " [1.]]\n",
      "Soluzione sistema con termine noto perturbato\n",
      "  [[1.15      ]\n",
      " [0.7825    ]\n",
      " [1.12083333]\n",
      " [0.96770833]\n",
      " [1.00416667]\n",
      " [0.99979167]]\n",
      "errore soluzione  0.21749999998442493\n"
     ]
    }
   ],
   "source": [
    "xesatta= np.ones((6,1))  #Soluzione esatta\n",
    "xp=spl.solve(A,bp)\n",
    "print(\"Soluzione esatta sistema senza perturbazione \\n \",xesatta)\n",
    "print(\"Soluzione sistema con termine noto perturbato\\n \",xp)\n",
    "errore_soluzione=np.linalg.norm(xp-xesatta,np.inf)/np.linalg.norm(xesatta,np.inf)\n",
    "print(\"errore soluzione \",errore_soluzione)\n",
    "#Ad un errore relativo sui dati pari a 2.67 e-06, corrisponde un errore relativo sulla soluzione di 0.2175.\n",
    "#Questo dipende dal fatto che il problema della soluzione del sistema lineare con la matrice A come nell'esercizio \n",
    "#è mal condizionato, quindi piccole perturbazioni sui dati vengono amplificate sulla soluzione\n",
    "#l'elevato indice di condizionamento della matrice A, che abbiamo visto essere 1.281105e+06 conferma la precedente.\n",
    "#Infatti abbiamo detto a lezione che l'indice di condizionamento della matrice A rappresenta un fattore di amplificazione\n",
    "#sulla soluzione di piccoli errori sui dati"
   ]
  },
  {
   "cell_type": "markdown",
   "id": "1fad1579-04c4-4aae-a840-2ab3120aaf2e",
   "metadata": {},
   "source": [
    "## Esercizio 2\n",
    "Assegnato il sistema lineare $Ax = b$, con\n",
    "$$\n",
    "A =\n",
    "\\left [\n",
    "\\begin{array}{ccc}\n",
    "6 & 63 & 662.2\\\\\n",
    "63 & 662.2 & 6967.8\\\\\n",
    "662.2 & 6967.8 & 73393.5664\n",
    "\\end{array}\n",
    "\\right ], \\qquad\n",
    "b =\n",
    "\\left [\n",
    "\\begin{array}{c}\n",
    "1.1\\\\\n",
    "2.33\\\\\n",
    "1.7\n",
    "\\end{array}\n",
    "\\right ]\n",
    "$$\n",
    "- trovare il vettore soluzione $x$ (usando il metodo solve del modulo linalg di Scipy);\n",
    "- perturbare la matrice dei coefficienti della quantità\n",
    "$$\n",
    "\\delta A =\n",
    "0.01 \\, \\ast \\,\n",
    "\\left [ \\begin{array}{ccc}\n",
    "1 & 0 & 0\\\\\n",
    "0 & 0 & 0\\\\\n",
    "0 & 0 & 0\n",
    "\\end{array}\n",
    "\\right ]\n",
    "$$\n",
    "quindi calcolare l'errore relativo sulla soluzione e confrontarlo con la\n",
    "perturbazione relativa sui dati di ingresso. Cosa si osserva?"
   ]
  },
  {
   "cell_type": "code",
   "execution_count": 8,
   "id": "08cd9f67-c9fc-4de1-9649-262c98f26590",
   "metadata": {},
   "outputs": [
    {
     "name": "stdout",
     "output_type": "stream",
     "text": [
      "Indice di condizionamento di A 1.975302e+10\n",
      "[136422.33746479 -25999.49954686   1237.44419611]\n",
      "[67.09867276 -9.66739506  0.3124175 ]\n",
      "Errore relativo sui dati  1.2342088165597937e-07\n",
      "Errore relativo sui dati  in percentuale  1.2342088165597937e-05 %\n",
      "Errore relativo sulla soluzione  0.9995081547933965\n",
      "Errore relativo sulla soluzione  in percentuale  99.95081547933965 %\n"
     ]
    }
   ],
   "source": [
    "#Esempi di sistemi malcondizionati\n",
    "\n",
    "\n",
    "A=np.array([[6, 63, 662.2],[63, 662.2, 6967.8],[662.2, 6967.8, 73393.5664]])\n",
    "b=np.array([1.1, 2.33, 1.7])\n",
    "\n",
    "KA= npl.cond(A,np.inf)\n",
    "print(\"Indice di condizionamento di A {:e}\".format(KA))\n",
    "x=spl.solve(A,b)\n",
    "print(x)\n",
    "\n",
    "#perturbare la matrice\n",
    " \n",
    "A1=A.copy()\n",
    "A1[0,0]=A[0,0]+0.01\n",
    "x_per=spl.solve(A1,b)\n",
    "print(x_per)\n",
    "\n",
    "\n",
    "#Errore relativo sui dati\n",
    "err_dati=npl.norm(A-A1,np.inf)/npl.norm(A,np.inf)\n",
    "\n",
    "print(\"Errore relativo sui dati \", err_dati)\n",
    "print(\"Errore relativo sui dati  in percentuale \", err_dati*100,\"%\")\n",
    "\n",
    "err_rel_sol=npl.norm(x_per-x,np.inf)/npl.norm(x,np.inf)\n",
    "print(\"Errore relativo sulla soluzione \", err_rel_sol)\n",
    "print(\"Errore relativo sulla soluzione  in percentuale \", err_rel_sol*100,\"%\")\n",
    "#Ad un errore relativo sui dati pari a 1.23 e-07, corrisponde un errore relativo sulla soluzione di 0.9995.\n",
    "#Questo dipende dal fatto che il problema della soluzione del sistema lineare con la matrice A come nell'esercizio \n",
    "#è mal condizionato, quindi piccole perturbazioni sui dati vengono amplificate sulla soluzione\n",
    "#l'elevato indice di condizionamento della matrice A, che abbiamo visto essere 1.975302e+010 conferma la precedente affermazione.\n",
    "#Infatti abbiamo detto a lezione che l'indice di condizionamento della matrice A rappresenta un fattore di amplificazione\n",
    "#sulla soluzione di piccoli errori sui dati"
   ]
  },
  {
   "cell_type": "markdown",
   "id": "3fd35cbb-3eaa-4674-91ff-cf7148cac8b8",
   "metadata": {},
   "source": [
    "## Esercizio 3\n",
    " \n",
    "Assegnato il sistema lineare $Ax = b$, con $A$ matrice di Hilbert di ordine\n",
    "$4$ e $b = [1, 1, 1, 1]^T$,\n",
    " - trovare il vettore soluzione $x$ (usando il metodo solve del modulo linalg di Scipy);\n",
    " -  perturbare il vettore dei termini noti della quantità\n",
    "$$\n",
    "\\delta b = 0.01 \\, \\ast \\,\n",
    "\\left [\n",
    "\\begin{array}{c}\n",
    "1\\\\\n",
    "-1\\\\\n",
    "1\\\\\n",
    "-1\n",
    "\\end{array}\n",
    "\\right ]\n",
    "$$\n",
    "quindi calcolare la soluzione del sistema $A x_p= b_p$ con termine noto $b_p=b+ \\delta b$.\n",
    "Calcolare l'errore relativo sulla soluzione e confrontarlo con la perturbazione relativa sui dati di ingresso. Cosa si osserva?\n",
    "\n",
    "Nota: per la costruzione della matrice di Hilbert usare la funzione hilbert(n) del modulo scipy.linalg\n",
    "(scipy.linalg.hilbert(n))  dove bisogna specificare l'ordine n della matrice."
   ]
  },
  {
   "cell_type": "code",
   "execution_count": 9,
   "id": "8a3d4c80-02b3-466f-9ad0-f645577e08b0",
   "metadata": {},
   "outputs": [
    {
     "name": "stdout",
     "output_type": "stream",
     "text": [
      "[[1.         0.5        0.33333333 0.25      ]\n",
      " [0.5        0.33333333 0.25       0.2       ]\n",
      " [0.33333333 0.25       0.2        0.16666667]\n",
      " [0.25       0.2        0.16666667 0.14285714]]\n",
      "Indice di condizionamento di A 2.837500e+04\n",
      "Errore relativo sui dati  0.01\n",
      "Errore relativo sui dati  in percentuale 1.0 %\n",
      "Errore relativo sulla soluzione 0.7566666666666719\n",
      "Errore relativo sulla soluzione  in percentuale 75.6666666666672 %\n"
     ]
    }
   ],
   "source": [
    "n=4\n",
    "A=spl.hilbert(4)\n",
    "print(A)\n",
    "condA=np.linalg.cond(A,np.inf)\n",
    "print(\"Indice di condizionamento di A {:e}\".format(condA))\n",
    "\n",
    "b=np.array([1,1,1,1])\n",
    "\n",
    "x= spl.solve(A,b)\n",
    "\n",
    "\n",
    "db=np.array([0.01, -0.01, 0.01, -0.01])\n",
    "bp=b+db\n",
    "\n",
    "xp=spl.solve(A,bp)\n",
    "\n",
    "err_dati= npl.norm(db,2)/npl.norm(b,2)  \n",
    "print(\"Errore relativo sui dati \", err_dati)\n",
    "print(\"Errore relativo sui dati  in percentuale\", err_dati*100,\"%\")\n",
    "\n",
    "err_rel_sol=npl.norm(x-xp,np.inf)/npl.norm(x,np.inf) \n",
    "print(\"Errore relativo sulla soluzione\", err_rel_sol)\n",
    "print(\"Errore relativo sulla soluzione  in percentuale\", err_rel_sol*100,\"%\")\n",
    "#Ad un errore relativo sui dati pari a 0.01 (che in percentuale è pari all' 1%) , corrisponde un errore relativo \n",
    "#sulla soluzione di 0.7566 (che in percentuale è pari al 75%).\n",
    "#Questo dipende dal fatto che il problema della soluzione del sistema lineare con la matrice A come nell'esercizio \n",
    "#è mal condizionato, quindi piccole perturbazioni sui dati vengono amplificate sulla soluzione\n",
    "#l'elevato indice di condizionamento della matrice A, che abbiamo visto essere 2.837500e+04 conferma la precedente affermazione.\n",
    "#Infatti abbiamo detto a lezione che l'indice di condizionamento della matrice A rappresenta un fattore di amplificazione\n",
    "#sulla soluzione di piccoli errori sui dati"
   ]
  },
  {
   "cell_type": "markdown",
   "id": "b1d646aa-f01a-4754-85e0-8803dc40b54f",
   "metadata": {},
   "source": [
    "## Metodi diretti per la soluzione numerica di un sistema lineare"
   ]
  },
  {
   "cell_type": "markdown",
   "id": "d49457b8-af07-4729-a33a-dc93547c1a20",
   "metadata": {},
   "source": [
    "## Nota 1.\n",
    "La funzione *scipy.linalg.lu(A)*  , presa in input una matrice A a rango massimo, restituisce in output le matrici $P^T$,L,U,  della fattorizzazione di LU della matrice A in maniera tale che PA=LU (restituisce la matrice di permutazione trasposta)"
   ]
  },
  {
   "cell_type": "code",
   "execution_count": 10,
   "id": "6164dfcc-4ff8-4d35-9ba3-59cae1f5189e",
   "metadata": {},
   "outputs": [
    {
     "name": "stdout",
     "output_type": "stream",
     "text": [
      "A= [[2 1]\n",
      " [3 4]]\n",
      "L= [[1.         0.        ]\n",
      " [0.66666667 1.        ]]\n",
      "U= [[ 3.          4.        ]\n",
      " [ 0.         -1.66666667]]\n",
      "P= [[0. 1.]\n",
      " [1. 0.]]\n",
      "Matrice P*A \n",
      " [[3. 4.]\n",
      " [2. 1.]]\n",
      "Matrice ottenuta moltipicando Le ed U \n",
      " [[3. 4.]\n",
      " [2. 1.]]\n"
     ]
    }
   ],
   "source": [
    "import numpy as np\n",
    "import scipy as sp\n",
    "from scipy.linalg import lu\n",
    "A=np.array([[2,1],[3,4]])\n",
    "PT,L,U=lu(A)  #Restituisce in output la trasposta della matrice di Permutazione\n",
    "P=PT.copy()   #P è la matrice di permutazione\n",
    "print(\"A=\",A)\n",
    "print(\"L=\",L)\n",
    "print(\"U=\",U)\n",
    "print(\"P=\",P)\n",
    "#LU è la fattorizzazione di P*A (terorema 2)\n",
    "A1=P@A # equivale al prodotto matrice x matrice np.dot(P,A)\n",
    "A1Fatt=L@U # equivale a np.dot(L,U)\n",
    "print(\"Matrice P*A \\n\", A1)\n",
    "print(\"Matrice ottenuta moltipicando Le ed U \\n\",A1Fatt)\n"
   ]
  },
  {
   "cell_type": "markdown",
   "id": "76f8f316-d9af-4596-9eed-5aa64f913f1f",
   "metadata": {},
   "source": [
    "## Nota 2\n",
    "La funzione *scipy.linalg.cholesky(a, lower=True)*, presa in input una matrice simmetrica e definta positiva restituisce in output la matrice L triangolare inferiore tale che $A=L \\cdot L^T$. Se la matrice in input non è definita positiva, restituisce un errore."
   ]
  },
  {
   "cell_type": "code",
   "execution_count": 11,
   "id": "162e3ab4-4a37-43d4-9727-6f032595449f",
   "metadata": {},
   "outputs": [
    {
     "name": "stdout",
     "output_type": "stream",
     "text": [
      "[[ 2  1  3]\n",
      " [ 1  5  7]\n",
      " [ 3  7 12]]\n"
     ]
    }
   ],
   "source": [
    "from scipy.linalg import cholesky\n",
    "A=np.array([[2,1,3],[1,5,7],[3,7,12]])\n",
    "print(A)"
   ]
  },
  {
   "cell_type": "code",
   "execution_count": 12,
   "id": "96fd572b-f470-4436-aea2-0bb5da4fdd23",
   "metadata": {},
   "outputs": [
    {
     "name": "stdout",
     "output_type": "stream",
     "text": [
      "[[1.41421356 0.         0.        ]\n",
      " [0.70710678 2.12132034 0.        ]\n",
      " [2.12132034 2.59272486 0.8819171 ]]\n",
      "A1=\n",
      " [[ 2.  1.  3.]\n",
      " [ 1.  5.  7.]\n",
      " [ 3.  7. 12.]]\n"
     ]
    }
   ],
   "source": [
    "L=cholesky(A,lower=True)\n",
    "print(L)\n",
    "A1=L@L.T\n",
    "print(\"A1=\\n\",A1)"
   ]
  },
  {
   "cell_type": "markdown",
   "id": "6760f2a0-ffec-49a1-96f7-ed643109e4d7",
   "metadata": {},
   "source": [
    "## Nota 3\n",
    "La funzione *scipy.linalg.qr(a)*, presa in input una matrice A (nxn)  a rango massimo, restituisce in output le matrici Q (ortogonale di dimensione nxn) ed una matrice R (nxn) triangolare superiore tale che $A=Q \\cdot R$"
   ]
  },
  {
   "cell_type": "code",
   "execution_count": 13,
   "id": "e336d0a6-f2c3-4a7b-a8e3-871e70ca917c",
   "metadata": {},
   "outputs": [
    {
     "name": "stdout",
     "output_type": "stream",
     "text": [
      "Q= [[-0.53452248  0.6882472  -0.49051147]\n",
      " [-0.26726124 -0.6882472  -0.67445327]\n",
      " [-0.80178373 -0.22941573  0.55182541]]\n",
      "R= [[ -3.74165739  -7.48331477 -13.09580085]\n",
      " [  0.          -4.35889894  -5.50597761]\n",
      " [  0.           0.           0.42919754]]\n",
      "[[ 2.  1.  3.]\n",
      " [ 1.  5.  7.]\n",
      " [ 3.  7. 12.]]\n"
     ]
    }
   ],
   "source": [
    "from scipy.linalg import qr\n",
    "A=np.array([[2,1,3],[1,5,7],[3,7,12]])\n",
    "Q,R=qr(A)\n",
    "print(\"Q=\",Q)\n",
    "print(\"R=\",R)\n",
    "A1=Q@R\n",
    "print(A1)"
   ]
  },
  {
   "cell_type": "markdown",
   "id": "270ae20e-08a7-4ab4-a710-c4541a398ec1",
   "metadata": {},
   "source": [
    "## Esercizio 4\n",
    "- si implementi una function LUsolve(P,A,L,U,b) che risolve il sistema lineare Ax=b nel caso di fattorizzazione $PA = LU$ assegnata,\n",
    "combinando i metodi di risoluzione in avanti ed all'indietro  implementati nel file SolveTriangular.py.\n",
    "- si testi sulla matrice A = np.array([[2, 5, 8, 7], [5, 2, 2, 8], [7, 5, 6, 6], [5, 4, 4, 8]]) con termine noto b scelto in maniera tale che la soluzione esatta del sistema lineare sia il vettore formato da tutti 1."
   ]
  },
  {
   "cell_type": "code",
   "execution_count": 14,
   "id": "ac842a33-8fff-424b-82c3-e10bef08918d",
   "metadata": {},
   "outputs": [
    {
     "name": "stdout",
     "output_type": "stream",
     "text": [
      "A= [[2 5 8 7]\n",
      " [5 2 2 8]\n",
      " [7 5 6 6]\n",
      " [5 4 4 8]]\n",
      "b= [[22]\n",
      " [17]\n",
      " [24]\n",
      " [21]]\n",
      "P= \n",
      " [[0. 0. 1. 0.]\n",
      " [1. 0. 0. 0.]\n",
      " [0. 0. 0. 1.]\n",
      " [0. 1. 0. 0.]]\n",
      "L=\n",
      " [[ 1.          0.          0.          0.        ]\n",
      " [ 0.28571429  1.          0.          0.        ]\n",
      " [ 0.71428571  0.12        1.          0.        ]\n",
      " [ 0.71428571 -0.44       -0.46153846  1.        ]]\n",
      "U=\n",
      " [[ 7.          5.          6.          6.        ]\n",
      " [ 0.          3.57142857  6.28571429  5.28571429]\n",
      " [ 0.          0.         -1.04        3.08      ]\n",
      " [ 0.          0.          0.          7.46153846]]\n",
      "flag= \n",
      " 0 \n",
      " x= \n",
      " [[1.]\n",
      " [1.]\n",
      " [1.]\n",
      " [1.]]\n"
     ]
    }
   ],
   "source": [
    "import numpy as np\n",
    "from SolveTriangular import *\n",
    "from scipy.linalg import lu\n",
    "\n",
    "A = np.array([[2, 5, 8, 7], [5, 2, 2, 8], [7, 5, 6, 6], [5, 4, 4, 8]])\n",
    "print(\"A=\",A)\n",
    "b=np.sum(A,axis=1).reshape(4,1)\n",
    "print(\"b=\",b)\n",
    "PT, L, U = lu(A)\n",
    "P=PT.T.copy()\n",
    "print(\"P= \\n\",P)\n",
    "print(\"L=\\n\",L)\n",
    "print(\"U=\\n\",U)\n",
    "#Le permutazioni di righe fatte sulla matrice vengono effettuate anche sul termine noto\n",
    "y, flag = Lsolve(L, P@b)\n",
    "x, flag = Usolve(U, y)\n",
    "print(\"flag= \\n\", flag, \"\\n x= \\n\",x)"
   ]
  },
  {
   "cell_type": "markdown",
   "id": "daa94c30-7b43-4ab5-896b-f2b2409a8a56",
   "metadata": {},
   "source": [
    "## Esercizio 5\n",
    "Si implementi una function *solve_nsis(A,B)* per il calcolo della soluzione di un generale sistema lineare $AX = B$, con $X, B$ matrici, che usi la fattorizzazione LU della matrice PA, per risolvere n sistemi lineari: aventi la stessa matrice dei coefficienti A e termine noto l'i-esima colonna della matrice B. \n",
    "Utilizzarla poi per il calcolo dell'inversa delle\n",
    "matrici non singolari\n",
    "$$\n",
    "A=\\left[\n",
    "\\begin{array}{ccc}\n",
    "3 & 5 & 7\\\\\n",
    "2 & 3 & 4\\\\\n",
    "5 & 9 & 11\n",
    "\\end{array}\n",
    "\\right ], \\qquad\n",
    "A=\\left[\n",
    "\\begin{array}{cccc}\n",
    "1 & 2 & 3 & 4\\\\\n",
    "2 & -4 & 6 & 8\\\\\n",
    "-1 & -2 & -3 & -1\\\\\n",
    "5 & 7 & 0 & 1\n",
    "\\end{array}\n",
    "\\right ],\n",
    "$$\n",
    "confrontando i risultati ottenuti con l'output\n",
    "della funzione  *scipy.linalg.inv(A)*"
   ]
  },
  {
   "cell_type": "code",
   "execution_count": 15,
   "id": "e9516e72-e934-49b4-aee1-5afec8efcdba",
   "metadata": {},
   "outputs": [],
   "source": [
    "def solve_nsis(A,B):\n",
    "  # Test dimensione  \n",
    "    m,n=A.shape\n",
    "    flag=0;\n",
    "    if n!=m:\n",
    "      print(\"Matrice non quadrata\")\n",
    "       \n",
    "      return\n",
    "    \n",
    "     \n",
    "    X= np.zeros((n,n))\n",
    "    PT,L,U= lu(A)\n",
    "    P=PT.T.copy()\n",
    "    if flag==0:\n",
    "        for i in range(n):\n",
    "            y,flag=Lsolve(L,P@B[:,i])\n",
    "            x,flag= Usolve(U,y)\n",
    "            X[:,i]=x.reshape(n,)\n",
    "    else:\n",
    "        print(\"Elemento diagonale nullo\")\n",
    "        X=[]\n",
    "    return X    \n",
    "    "
   ]
  },
  {
   "cell_type": "code",
   "execution_count": 16,
   "id": "97610e98-364a-42c1-80f8-7bfce5ac0036",
   "metadata": {},
   "outputs": [
    {
     "name": "stdout",
     "output_type": "stream",
     "text": [
      "my inversa \n",
      " [[-1.5  4.  -0.5]\n",
      " [-1.  -1.   1. ]\n",
      " [ 1.5 -1.  -0.5]]\n",
      "Inversa con linalg \n",
      "  [[-1.5  4.  -0.5]\n",
      " [-1.  -1.   1. ]\n",
      " [ 1.5 -1.  -0.5]]\n",
      "my inversa \n",
      " [[-4.16666667e-01  1.75000000e-01 -6.66666667e-02  2.00000000e-01]\n",
      " [ 2.50000000e-01 -1.25000000e-01  1.30614473e-16 -0.00000000e+00]\n",
      " [-1.38888889e-01  2.50000000e-02 -4.22222222e-01 -6.66666667e-02]\n",
      " [ 3.33333333e-01  0.00000000e+00  3.33333333e-01 -2.31296463e-18]]\n",
      "Inversa con linalg \n",
      "  [[-4.16666667e-01  1.75000000e-01 -6.66666667e-02  2.00000000e-01]\n",
      " [ 2.50000000e-01 -1.25000000e-01  1.14287664e-16  4.08170230e-18]\n",
      " [-1.38888889e-01  2.50000000e-02 -4.22222222e-01 -6.66666667e-02]\n",
      " [ 3.33333333e-01  0.00000000e+00  3.33333333e-01  0.00000000e+00]]\n"
     ]
    }
   ],
   "source": [
    "A_1=np.array([[3,5,7],[2,3,4],[5,9,11]])\n",
    "m,n=A_1.shape\n",
    "I=np.eye(m) #Si da come matrice B l'identità: così si ottiene per X l'inversa\n",
    "X=solve_nsis(A_1,I) \n",
    "print(\"my inversa \\n\",X)\n",
    "print(\"Inversa con linalg \\n \",np.linalg.inv(A_1))\n",
    "\n",
    "A_2=np.array([[1, 2, 3, 4], [2, -4, 6, 8],[-1, -2, -3, -1],[ 5, 7, 0 ,1]])\n",
    "m,n=A_2.shape\n",
    "I=np.eye(m)\n",
    "X=solve_nsis(A_2,I) \n",
    "print(\"my inversa \\n\",X)\n",
    "print(\"Inversa con linalg \\n \",np.linalg.inv(A_2))  "
   ]
  },
  {
   "cell_type": "markdown",
   "id": "412ae29a-6a32-43e0-9456-e7677f695feb",
   "metadata": {},
   "source": [
    "## Esercizio 6\n",
    "Sfruttando la fattorizzazione PA=LU  di una delle matrici del punto precedente, calcolarne il determinante.\n"
   ]
  },
  {
   "cell_type": "code",
   "execution_count": 17,
   "id": "076ed939-7c12-4fbc-a439-adbbbcaad027",
   "metadata": {},
   "outputs": [
    {
     "name": "stdout",
     "output_type": "stream",
     "text": [
      "determinante sfruttando fattorizzazione LU -359.9999999999999 determinante sfruttando la funzione np.linalg.det  -359.9999999999997\n"
     ]
    }
   ],
   "source": [
    "PT,L_1,U_1=lu(A_2)\n",
    "P=PT.T.copy()\n",
    "deterA2=np.prod(np.diag(U_1))*np.linalg.det(P)\n",
    "#In realtà bisognerebbe risalire al numero di scambi effettuati s dall'algoritmo di Gauss con pivoting e calcolare det(P)=(-1)**s,\n",
    "#ma mi interessa solo sapere il risultato teorico e quindi potete tranquillamente usare la funzione np.linalg.det per calcolare det(P)\n",
    "print(\"determinante sfruttando fattorizzazione LU\",deterA2,\"determinante sfruttando la funzione np.linalg.det \", np.linalg.det(A_2))"
   ]
  },
  {
   "cell_type": "markdown",
   "id": "8b359b50-ef2b-4a62-8623-b4cba6a31468",
   "metadata": {},
   "source": [
    "## Esercizio 7\n",
    "Per valori di $n = 4 : 6 : 40$, si consideri il sistema lineare $A_n x = b$ con\n",
    "$A_n$ matrice di Hankel di ordine $n$ di elementi\n",
    "$$\n",
    "a^{(n)}_{i,n+k-i}\n",
    "=\n",
    "\\left \\{\n",
    "\\begin{array}{ll}\n",
    "2^k & \\hbox{se} \\ k > 0,\\\\\n",
    "2^{1/(2-k)} & \\hbox{se} \\ k \\leq 0,\n",
    "\\end{array}\n",
    "\\right .\n",
    "\\qquad\n",
    "i = 1, ..., n, \\ \\  k = i + 1-n, ..., i,\n",
    "$$\n",
    "e $b$ scelto in modo che risulti $x = [1, 1, ..., 1]^T$. Si risolva tale sistema\n",
    "con il metodo di fattorizzazione LU della matrice PA\n",
    "e il metodo di fattorizzazione QR (Q,R  =scipy.linalg.qr(A)).\n",
    "Calcolare gli errori relativi $\\| \\delta x \\|_2/\\|x\\|_2$ da cui sono affette\n",
    "le soluzioni calcolate con i due metodi e produrre, al variare di $n$, un\n",
    "grafico in scala logaritmica ( matplotlib.plyplot.loglog) degli errori relativi calcolati. Che cosa si\n",
    "osserva?\n",
    "\n",
    "NB: per il calcolo della matrice di Hankel utilizzare la function \n",
    "\n",
    "def Hankel(n):\n",
    "\n",
    "    A=np.zeros((n,n),dtype=float)\n",
    "    for i in range(0,n):\n",
    "        for k in range(i+1-n,i+1):\n",
    "            if k>0:\n",
    "                A[i,n-1+k-i]=2.0**(k+1)\n",
    "            else:\n",
    "                A[i,n-1+k-i]=2.0**(1/(2-k-1))\n",
    "    return A"
   ]
  },
  {
   "cell_type": "code",
   "execution_count": 20,
   "id": "8b7532cd-5e5a-4bd2-8144-98b88c8377bc",
   "metadata": {},
   "outputs": [
    {
     "data": {
      "image/png": "[encoded data removed]",
      "text/plain": [
       "<Figure size 640x480 with 1 Axes>"
      ]
     },
     "metadata": {},
     "output_type": "display_data"
    },
    {
     "data": {
      "text/plain": [
       "[<matplotlib.lines.Line2D at 0x7f7df212c8d0>]"
      ]
     },
     "execution_count": 20,
     "metadata": {},
     "output_type": "execute_result"
    },
    {
     "data": {
      "image/png": "[encoded data removed]",
      "text/plain": [
       "<Figure size 640x480 with 1 Axes>"
      ]
     },
     "metadata": {},
     "output_type": "display_data"
    }
   ],
   "source": [
    "def Hankel(n):\n",
    "    A=np.zeros((n,n),dtype=float)\n",
    "    for i in range(0,n):\n",
    "        for k in range(i+1-n,i+1):\n",
    "            if k>0:\n",
    "                A[i,n-1+k-i]=2.0**(k+1)\n",
    "            else:\n",
    "                A[i,n-1+k-i]=2.0**(1/(2-k-1))\n",
    "    return A\n",
    "\n",
    "\n",
    "indCond=[]\n",
    "err_rel=[]\n",
    "err_rel_qr=[]\n",
    "for n in range(4,41,6):\n",
    "\n",
    "   A=Hankel(n)\n",
    "   indCond.append(np.linalg.cond(A,2))\n",
    "   xesatta=np.ones((n,1))\n",
    "   b=np.dot(A,xesatta)\n",
    "   PT,L,U=lu(A)\n",
    "   P=PT.T\n",
    "   x,flag=sf.LUsolve(P,L,U,b)\n",
    "    \n",
    "   err_rel.append(np.linalg.norm(x-xesatta,2)/np.linalg.norm(xesatta,2))\n",
    "    \n",
    "   \n",
    "   Q,R=sp.linalg.qr(A)\n",
    "   \n",
    "   y=np.dot(Q.T,b)\n",
    "   xqr,flag=Usolve(R,y)\n",
    "   err_rel_qr.append(np.linalg.norm(xqr-xesatta,2)/np.linalg.norm(xesatta,2))\n",
    "   \n",
    "   \n",
    "plt.semilogy(range(4,41,6),err_rel,'ro-',range(4,41,6),err_rel_qr,'go-')\n",
    "plt.legend(['Gauss','QR'])\n",
    "plt.ylabel('Errore relativo sulla soluzione')\n",
    "plt.show()\n",
    "plt.semilogy(range(4,41,6),indCond,'ro-')\n",
    "\n",
    "#Si noti dall'andamento dell'errore relativo sulla soluzione,come spiegato in teoria, che il metodo QR è più stabile dell'algoritmo di Gauss \n",
    "#con pivotaggio"
   ]
  },
  {
   "cell_type": "markdown",
   "id": "00b1242a-d51d-40fa-a9ed-716cc4ab9d89",
   "metadata": {},
   "source": [
    "## Esercizio 8\n",
    "\n",
    "Ripetere l'esercizio precedente per risolvere il sistema lineare $Ax = b$\n",
    "con $A$ e $b$ cos\\`i  definiti:\n",
    "$$\n",
    "a^{(n)}_{i,j}=\n",
    "\\left \\{\n",
    "\\begin{array}{ll}\n",
    "1 & \\hbox{se} \\ i=j \\ \\hbox{o \\, se} \\ j=n,\\\\\n",
    "-1 & \\hbox{se} \\ i>j,\\\\\n",
    "0 & \\hbox{altrimenti}\n",
    "\\end{array}\n",
    "\\right .\n",
    "\\qquad\n",
    "b = A \\cdot [1, ..., 1]^T,\n",
    "$$\n",
    "per $n = 48 : 2 : 58$ e $b$ scelto in modo che risulti $x = [1, 1, ..., 1]^T$. Che\n",
    "cosa si osserva?"
   ]
  },
  {
   "cell_type": "code",
   "execution_count": null,
   "id": "818aa966-42b9-4d24-84fe-e908a7297676",
   "metadata": {},
   "outputs": [],
   "source": [
    "def matrix(n):\n",
    "    A=np.zeros((n,n),dtype=float)\n",
    "    for i in range(0,n):\n",
    "        for j in range(0,n):\n",
    "            if i==j or j==n-1:\n",
    "                A[i,j]=1\n",
    "            elif i>j:\n",
    "                A[i,j]=-1\n",
    "            else:\n",
    "                A[i,j]=0\n",
    "    return A"
   ]
  },
  {
   "cell_type": "code",
   "execution_count": null,
   "id": "0b7fd588-abb7-448d-9abb-badd8d1ec774",
   "metadata": {},
   "outputs": [
    {
     "data": {
      "image/png": "[encoded data removed]",
      "text/plain": [
       "<Figure size 640x480 with 1 Axes>"
      ]
     },
     "metadata": {},
     "output_type": "display_data"
    },
    {
     "data": {
      "text/plain": [
       "[<matplotlib.lines.Line2D at 0x7fd83b3d8250>]"
      ]
     },
     "execution_count": 63,
     "metadata": {},
     "output_type": "execute_result"
    },
    {
     "data": {
      "image/png": "[encoded data removed]",
      "text/plain": [
       "<Figure size 640x480 with 1 Axes>"
      ]
     },
     "metadata": {},
     "output_type": "display_data"
    }
   ],
   "source": [
    "indCond=[]\n",
    "err_rel=[]\n",
    "err_rel_qr=[]\n",
    "for n in range(48,59,2):\n",
    "\n",
    "   A=matrix(n)\n",
    "   indCond.append(np.linalg.cond(A,2))\n",
    "   xesatta=np.ones((n,1))\n",
    "   b=np.dot(A,xesatta)\n",
    "   PT,L,U=lu(A)\n",
    "   P=PT.T\n",
    "   x,flag=sf.LUsolve(P,A,L,U,b)\n",
    "    \n",
    "   err_rel.append(np.linalg.norm(x-xesatta,2)/np.linalg.norm(xesatta,2))\n",
    "    \n",
    "   \n",
    "   Q,R=sp.linalg.qr(A)\n",
    "   \n",
    "   y=np.dot(Q.T,b)\n",
    "   xqr,flag=Usolve(R,y)\n",
    "   err_rel_qr.append(np.linalg.norm(xqr-xesatta,2)/np.linalg.norm(xesatta,2))\n",
    "   \n",
    "   \n",
    "plt.loglog(range(48,59,2),err_rel,'ro-',range(48,59,2),err_rel_qr,'go-')\n",
    "plt.legend(['Gauss','QR'])\n",
    "plt.ylabel('Errore relativo sulla soluzione')\n",
    "plt.show()\n",
    "plt.semilogy(range(48,60,2),indCond,'ro-')"
   ]
  },
  {
   "cell_type": "markdown",
   "id": "66ae0b30-e823-4742-9b43-95268605d358",
   "metadata": {},
   "source": [
    "## Metodi iterativi di Jacobi, Guass-Seidel e Gausseidel_SOR per la soluzione numerica di un sistema lineare"
   ]
  },
  {
   "cell_type": "markdown",
   "id": "28bc92ed-296e-4af1-9b6a-839bf95f81ca",
   "metadata": {},
   "source": [
    "## Esercizio 9\n",
    "Implementare la  funzione $jacobi(A,b,x0,toll,itmax)$ per risolvere il  sistema lineare Ax=b utilizzando il Metodo iterativo di Jacobi. \n",
    "La funzione prende in input:\n",
    "- A: matrice dei coefficienti\n",
    "- b: termine noto\n",
    "- x0: vettore iniziale della stessa dimensione di b\n",
    "- toll: tolleranza per il criterio di arresto\n",
    "- itmax: iterazioni massime oltre le quali il metodo si ferma\n",
    "\n",
    "Calcolare il raggio spettrale della matrice di iterazione.\n",
    "\n",
    "Implementare un criterio di arresto per il procedimento iterativo in termini di : $||x^{(k)}-x^{(k-1)}||/||x^{(k)}|| <toll$"
   ]
  },
  {
   "cell_type": "markdown",
   "id": "94f1b913-cae9-4b23-b6ab-ed8dcc1d4ce6",
   "metadata": {},
   "source": [
    "## Esercizio 10\n",
    "Implementare la  funzione $gauss$_$seidel(A,b,x0,toll,it_max)$ per risolvere il  sistema lineare Ax=b utilizzando il Metodo iterativo di Gauss-Seidel. \n",
    "La funzione prende in input:\n",
    "- A: matrice dei coefficienti\n",
    "- b: termine noto\n",
    "- x0: vettore iniziale della stessa dimensione di b\n",
    "- toll: tolleranza per il criterio di arresto\n",
    "- itmax: iterazioni massime oltre le quali il metodo si ferma\n",
    "\n",
    "Calcolare il raggio spettrale della matrice di iterazione.\n",
    "\n",
    "Implementare un criterio di arresto per il procedimento iterativo in termini di : $||x^{(k)}-x^{(k-1)}||/||x^{(k)}|| <toll$"
   ]
  },
  {
   "cell_type": "markdown",
   "id": "d45f316b-0e7e-4d7a-9d5d-08ffc5610cab",
   "metadata": {},
   "source": [
    "## Esercizio 11\n",
    "Testare i metodi di Jacobi e di Gauss Seidel nella soluzione dei sistemi lineare Ax=b, dove \n",
    "- A=np.array([[4,1,3],[3,4,1],[1,1,17]]) \n",
    "- A=np.array([[3,0, 4],[7, 4, 3],[-1, -1 ,-2]])\n",
    "- A=np.array([[5, 0, -1, 2],[ -2, 4, 1, 0],[0, -1, 4, -1],[ 2, 0, 0, 3]])\n",
    "\n",
    "ed il termine noto del sistema è scelto in maniera tale che la soluzione esatta del sistema sia il vettore fatto da tutti 1.\n",
    "Visualizzare in un grafico in scala logaritmica  l'errore per ogni iterazione per ciascun metodo. Cosa si osserva?\n",
    "Porre toll=1e-8 it_max=500 e x0=np.zeros(A.shape[0]"
   ]
  },
  {
   "cell_type": "code",
   "execution_count": 21,
   "id": "97c887be-3193-4451-8bfe-8eefdfeea9a8",
   "metadata": {},
   "outputs": [
    {
     "name": "stdout",
     "output_type": "stream",
     "text": [
      "[[1.01747969e+00 1.01793188e+00 1.01840809e+00 ... 1.25992105e+00\n",
      "  1.41421356e+00 2.00000000e+00]\n",
      " [1.01793188e+00 1.01840809e+00 1.01891028e+00 ... 1.41421356e+00\n",
      "  2.00000000e+00 4.00000000e+00]\n",
      " [1.01840809e+00 1.01891028e+00 1.01944064e+00 ... 2.00000000e+00\n",
      "  4.00000000e+00 8.00000000e+00]\n",
      " ...\n",
      " [1.25992105e+00 1.41421356e+00 2.00000000e+00 ... 6.87194767e+10\n",
      "  1.37438953e+11 2.74877907e+11]\n",
      " [1.41421356e+00 2.00000000e+00 4.00000000e+00 ... 1.37438953e+11\n",
      "  2.74877907e+11 5.49755814e+11]\n",
      " [2.00000000e+00 4.00000000e+00 8.00000000e+00 ... 2.74877907e+11\n",
      "  5.49755814e+11 1.09951163e+12]]\n",
      "raggio spettrale jacobi 1.3748593749588482\n",
      "sol=\n",
      "  [[-5.80800897e+13]\n",
      " [-1.06597725e+14]\n",
      " [-5.98889669e+13]] \n",
      " it  100\n",
      "raggio spettrale Gauss-Seidel  6.071428571428572\n",
      "solgs= \n",
      " [[-9.21526322e+39]\n",
      " [ 1.78545725e+40]\n",
      " [ 1.75665955e+40]] \n",
      " it  100\n"
     ]
    },
    {
     "data": {
      "image/png": "[encoded data removed]",
      "text/plain": [
       "<Figure size 640x480 with 1 Axes>"
      ]
     },
     "metadata": {},
     "output_type": "display_data"
    }
   ],
   "source": [
    "import matplotlib.pyplot as plt\n",
    "from SolveTriangular import *\n",
    "#A=np.array([[4,1,3],[3,4,1],[1,1,17]])\n",
    "print(A)\n",
    "A=np.array([[3,0, 4],[7, 4, 3],[-1, -1 ,-2]])\n",
    "#A=np.array([[5, 0, -1, 2],[ -2, 4, 1, 0],[0, -1, 4, -1],[ 2, 0, 0, 3]])\n",
    "toll=1e-8\n",
    "it_max=100\n",
    "n=A.shape[0]\n",
    "x0=np.zeros(A.shape[0]).reshape(n,1)\n",
    "b=np.sum(A,axis=1).reshape(n,1)\n",
    "sol,it,err_vet=sf.jacobi(A,b,x0,toll,it_max)\n",
    "plt.semilogy(np.arange(it),err_vet)\n",
    "print(\"sol=\\n \",sol,\"\\n it \",it)\n",
    "\n",
    "solgs,itgs,err_vet_gs=sf.gauss_seidel(A,b,x0,toll,it_max)\n",
    "print(\"solgs= \\n\",solgs,\"\\n it \",itgs)\n",
    "plt.semilogy(np.arange(itgs),err_vet_gs)\n",
    "plt.legend([\"Jacobi \", \"Gauss Seidel\"])\n",
    "plt.show()\n",
    "\n",
    "#Il raggio spettrale del metodo di Gauss-Seidel è più piccolo del raggio spettrale del metodo di Jacobi, questo giustifica il fatto che \n",
    "# il metodo di Gauss-Seidel è più veloce"
   ]
  },
  {
   "cell_type": "markdown",
   "id": "389daa82-16aa-4c52-b830-41693c320ecd",
   "metadata": {},
   "source": [
    "## Esercizio 12\n",
    "Implementare la  funzione $gauss$_$seidel$_sor(A,b,x0,omega, toll,itmax) per risolvere il  sistema lineare Ax=b utilizzando il Metodo iterativo di Gauss-Seidel-SOR\n",
    "La funzione prende in input:\n",
    "- A: matrice dei coefficienti\n",
    "- b: termine noto\n",
    "- x0: vettore iniziale della stessa dimensione di b\n",
    "- omega: il parametro di rilassamento\n",
    "- toll: tolleranza per il criterio di arresto\n",
    "- itmax: iterazioni massime oltre le quali il metodo si ferma\n",
    "\n",
    "Restituisce in output\n",
    "- la soluzione x\n",
    "- l'errore ad ogni iterazione calcolato come $||x^{(k)}-x^{(k-1)}||/||x^{(k)}||$\n",
    "\n",
    "Calcolare il raggio spettrale della matrice di iterazione.\n",
    "\n",
    "Implementare un criterio di arresto per il procedimento iterativo in termini di : $||x^{(k)}-x^{(k-1)}||/||x^{(k)}|| <toll$"
   ]
  },
  {
   "cell_type": "markdown",
   "id": "2d2d64d1-52ae-43c5-a76c-e869474b6496",
   "metadata": {},
   "source": [
    "## Esercizio 13\n",
    "Scrivere una funzione creaPoisson(n) che preso in input l'ordine della matrice quadrata di Poisson la costruzione secondo la seguente formula:\n",
    "$$A =\n",
    "\\left [\n",
    "\\begin{array}{ccccccccccc}\n",
    "4 & -1 & 0 & -1 &0 &0 & 0& 0& \\cdots &   0 & 0\\\\\n",
    "-1 & 4 & -1 & 0  &-1 &0 & 0& 0& \\cdots &   0 & 0\\\\\n",
    "0 & -1 & 4 & -1  &0 &-1 & 0& 0& \\cdots &   0 & 0 \\\\\n",
    "-1 & 0 & -1 & 4  &-1 &0  & -1 & 0& \\cdots &   0 & 0\\\\\n",
    "0 & -1 & 0 & -1  & 4 &-1 & 0 & -1& \\cdots &   0 & 0\\\\\n",
    "0 & 0 & -1 & 0  & -1 &4 & -1 & 0&  -1 & 0 & 0 \\\\\n",
    "0 & 0 & 0 & \\ddots  & 0 &\\ddots & \\ddots & \\ddots& \\ddots & \\ddots & 0\\\\\n",
    "0 & 0 & 0 & 0  & -1 &0  & -1 & 4& -1 &   0& -1\\\\\n",
    "\\end{array}\n",
    " \\right ], \\qquad\n",
    "$$\n",
    "- Risolvere il sistema lineare Ax=b con matrice dei coefficienti A di Poisson di ordine 10 e termine noto b scelto in maniera tale che il sistema abbia soluzione il vettore x con tutte le componenti  uguali ad 1, utilizzando  il metodo iterativo di Jacobi, Gauss-Seidel e Gauss-Seidel-Sor con parametro omega scelto tra 1 e 2 in maniera tale che il raggio spettrale della matrice di iterazione sia il più piccolo possibile e confrontare su un unico grafico l'andamento degli errori in scala logaritmica. Usare toll=1e-10."
   ]
  },
  {
   "cell_type": "code",
   "execution_count": null,
   "id": "8f745d7e-883e-4ff5-9c07-2fee13e9c611",
   "metadata": {},
   "outputs": [],
   "source": [
    "def creaPoisson(n):\n",
    "    #costruire una matrice di Poisson\n",
    "    d=np.ones((n))*4\n",
    "    e=-np.ones((n-1,))\n",
    "    f=-np.ones((n-3,))\n",
    "    A=np.diag(d)+np.diag(e,-1)+np.diag(e,1)+np.diag(f,-3)+np.diag(f,3)\n",
    "    return A\n",
    "    "
   ]
  },
  {
   "cell_type": "code",
   "execution_count": null,
   "id": "b8096a42-ff0e-4ae5-a79e-2ef633e7e4d7",
   "metadata": {},
   "outputs": [
    {
     "name": "stdout",
     "output_type": "stream",
     "text": [
      "raggio spettrale jacobi 0.8451732757464308\n",
      "sol= [[1.]\n",
      " [1.]\n",
      " [1.]\n",
      " [1.]\n",
      " [1.]\n",
      " [1.]\n",
      " [1.]\n",
      " [1.]\n",
      " [1.]\n",
      " [1.]] it  127\n",
      "raggio spettrale Gauss-Seidel  2.071787712109766\n",
      "solgs= [[ 0.43936113]\n",
      " [-0.13153029]\n",
      " [-0.11858967]\n",
      " [-0.11102519]\n",
      " [-0.08944809]\n",
      " [-0.00047983]\n",
      " [ 0.08154055]\n",
      " [ 0.19810687]\n",
      " [ 0.07964943]\n",
      " [ 0.19271259]] it  35\n",
      "raggio spettrale Gauss-Seidel SOR  0.5103393892922703\n",
      "solgs_sor= [[1.]\n",
      " [1.]\n",
      " [1.]\n",
      " [1.]\n",
      " [1.]\n",
      " [1.]\n",
      " [1.]\n",
      " [1.]\n",
      " [1.]\n",
      " [1.]] it  46\n"
     ]
    },
    {
     "data": {
      "image/png": "[encoded data removed]",
      "text/plain": [
       "<Figure size 640x480 with 1 Axes>"
      ]
     },
     "metadata": {},
     "output_type": "display_data"
    }
   ],
   "source": [
    "A=creaPoisson(10)\n",
    "b=np.sum(A,axis=1)\n",
    "toll=1e-10\n",
    "it_max=1000\n",
    "n=A.shape[0]\n",
    "x0=np.zeros(A.shape[0]).reshape(n,1)\n",
    "b=np.sum(A,axis=1).reshape(n,1)\n",
    "sol_jac,it_jac,err_vet_jac=sf.jacobi(A,b,x0,toll,it_max)\n",
    "plt.semilogy(np.arange(it_jac),err_vet_jac)\n",
    "print(\"sol=\",sol_jac,\"it \",it_jac)\n",
    "solgs,itgs,err_vet_gs=sf.gauss_seidel(A,b,x0,toll,it_max)\n",
    "print(\"solgs=\",solgs,\"it \",itgs)\n",
    "plt.semilogy(np.arange(itgs),err_vet_gs)\n",
    " \n",
    "omega=1.4\n",
    "solgs_sor,itgs_sor,err_vet_gs_sor=sf.gauss_seidel_sor(A,b,x0,toll,it_max,omega)\n",
    "print(\"solgs_sor=\",solgs_sor,\"it \",itgs_sor)\n",
    "plt.semilogy(np.arange(itgs_sor),err_vet_gs_sor)\n",
    "plt.legend(['Jacobi','Gauss Seidel','Gauss Seidel Sor'])\n",
    "plt.show()\n",
    "\n",
    "#Si nota come a raggio spettrale più piccolo, corrisponde una magguire velocità (minor numero di iterazioni)"
   ]
  }
 ],
 "metadata": {
  "kernelspec": {
   "display_name": "Python 3 (ipykernel)",
   "language": "python",
   "name": "python3"
  },
  "language_info": {
   "codemirror_mode": {
    "name": "ipython",
    "version": 3
   },
   "file_extension": ".py",
   "mimetype": "text/x-python",
   "name": "python",
   "nbconvert_exporter": "python",
   "pygments_lexer": "ipython3",
   "version": "3.11.7"
  }
 },
 "nbformat": 4,
 "nbformat_minor": 5
}
