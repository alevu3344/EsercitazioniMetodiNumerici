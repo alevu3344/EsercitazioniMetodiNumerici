{
 "cells": [
  {
   "cell_type": "markdown",
   "id": "563c6e9f-4262-4dff-889f-d8bbeba42a00",
   "metadata": {
    "tags": []
   },
   "source": [
    "# Esercitazione 9\n",
    "\n",
    "**30 Aprile 2024**\n",
    "\n",
    "*Gradiente e gradiente coniugato*"
   ]
  },
  {
   "cell_type": "code",
   "execution_count": 2,
   "id": "f4b468b8",
   "metadata": {},
   "outputs": [],
   "source": [
    "import numpy as np\n",
    "import matplotlib.pyplot as plt\n",
    "from mpl_toolkits.mplot3d import Axes3D\n",
    "import scipy.linalg as spl\n",
    "\n",
    "import sys, os\n",
    "sys.path.append(os.path.abspath('../Scheletri'))\n",
    "import Schel_FULL as sf"
   ]
  },
  {
   "cell_type": "markdown",
   "id": "87931a73-97a8-4026-b57e-7e842f27bbbc",
   "metadata": {},
   "source": [
    "## Esercizio 1-Bis\n",
    "Implementare la funzione **steepestdescent_CL(A,b,x0,itmax,X,Y,Z,f,tol)** da utilizzare solo nel caso n=2 che visualizza anche le curve di livello e l'iterato x_k.\n",
    "\n",
    "N.B: f(x) è il funzionale quadratico da minimizzare (f(x)= <Ax,x>-<b,x>) ,\n",
    "X,Y sono la discretizzazione del piano su cui costruire Z (ottenuta valutando f sui punti della griglia)"
   ]
  },
  {
   "cell_type": "code",
   "execution_count": null,
   "id": "b336c8cc",
   "metadata": {},
   "outputs": [],
   "source": [
    "def steepestdescentCL(A,b,x0,itmax,X,Y,Z,f,tol):\n",
    " \n",
    "    n,m=A.shape\n",
    "    if n!=m or m != 2 or n != 2:\n",
    "        print(\"Matrice non quadrata o non 2x2\")\n",
    "        return [],[]\n",
    "    \n",
    "    \n",
    "   # inizializzare le variabili necessarie\n",
    "    x = x0\n",
    "    r = A@x-b  # residuo\n",
    "    p = -r     # opposto del residuo\n",
    "    it = 0\n",
    "  \n",
    "    errore=np.linalg.norm(r)/np.linalg.norm(b)\n",
    "    vec_sol=[]\n",
    "    vec_sol.append(x)\n",
    "    vet_r=[]\n",
    "    vet_r.append(errore)\n",
    "\n",
    "    plt.contour(X, Y, Z, levels=f(x,A,b).flatten())\n",
    "    plt.plot(x[0],x[1],'r-o')\n",
    "     \n",
    "# utilizzare il metodo del gradiente per trovare la soluzione\n",
    "    while errore>= tol and it< itmax:\n",
    "        it=it+1\n",
    "        Ap=A@p\n",
    "       \n",
    "        alpha = (r.T@r)/(p.T@Ap)\n",
    "                \n",
    "        x = x + alpha*p  #aggiornamento della soluzione nella direzione opposta a quella del gradiente: alpha mi dice dove fermarmi \n",
    "        #nella direzione del gradiente affinche F(xk+t p ) <F(xk)\n",
    "        plt.contour(X, Y, Z, levels=f(x,A,b).flatten())\n",
    "        plt.plot(x[0],x[1],'r-o')\n",
    "\n",
    "        vec_sol.append(x)\n",
    "        r=r+alpha*Ap\n",
    "        errore=np.linalg.norm(r)/np.linalg.norm(b)\n",
    "        vet_r.append(errore)\n",
    "        p = -r #Direzione opposta alla direzione del gradiente\n",
    "        \n",
    "     \n",
    "    return x,vet_r,vec_sol,it"
   ]
  },
  {
   "cell_type": "markdown",
   "id": "57266d62-eabb-4e23-8eef-b97eaf054282",
   "metadata": {},
   "source": [
    "## Esercizio 2-Bis\n",
    "Implementare la funzione **conjugate_gradient_CL(A,b,x0,itmax,X,Y,Z,f,tol)** da utilizzare solo nel caso n=2 che visualizza anche le curve di livello e l'iterato x_k"
   ]
  },
  {
   "cell_type": "markdown",
   "id": "d79f8a0e-ca9c-4eab-a23d-73b13a1eb892",
   "metadata": {},
   "source": [
    "## Test didattici per il caso n=2, visualizzando le curve di livello"
   ]
  },
  {
   "cell_type": "markdown",
   "id": "b42c2a29-4b3e-41e4-b35b-e97dd98606d5",
   "metadata": {},
   "source": [
    "Risolvere il sistema lineare Ax=b, dove A=np.array([[8,4],[4,3]]) e b=np.array([8,10]), utilizzando\n",
    "il metodo del gradiente e del gradiente coniugato con la visualizzazione grafica delle curve di livello e della soluzione ad ogni iterazione. Si selezioni l'iterato iniziale x0=[0,0], itmax=200\n",
    "tol=1e-10. Si confrontino le iterazioni effettuate da ciascuno dei due metodi e si visualizzi l'errore ad ogni iterazione."
   ]
  },
  {
   "cell_type": "markdown",
   "id": "1fa4e799-9317-4477-9ea3-d6bc7bef2ee1",
   "metadata": {
    "tags": []
   },
   "source": [
    "## Esercizio 3\n",
    "Scrivere una funzione creaPoisson(n) che preso in input l'ordine della matrice quadrata di Poisson la costruzione secondo la seguente formula:\n",
    "$$A =\n",
    "\\left [\n",
    "\\begin{array}{ccccccccccc}\n",
    "4 & -1 & 0 & -1 &0 &0 & 0& 0& \\cdots &   0 & 0\\\\\n",
    "-1 & 4 & -1 & 0  &-1 &0 & 0& 0& \\cdots &   0 & 0\\\\\n",
    "0 & -1 & 4 & -1  &0 &-1 & 0& 0& \\cdots &   0 & 0 \\\\\n",
    "-1 & 0 & -1 & 4  &-1 &0  & -1 & 0& \\cdots &   0 & 0\\\\\n",
    "0 & -1 & 0 & -1  & 4 &-1 & 0 & -1& \\cdots &   0 & 0\\\\\n",
    "0 & 0 & -1 & 0  & -1 &4 & -1 & 0&  -1 & 0 & 0 \\\\\n",
    "0 & 0 & 0 & \\ddots  & 0 &\\ddots & \\ddots & \\ddots& \\ddots & \\ddots & 0\\\\\n",
    "0 & 0 & 0 & 0  & -1 &0  & -1 & 4& -1 &   0& -1\\\\\n",
    "\\end{array}\n",
    " \\right ], \\qquad\n",
    "$$\n",
    "\n",
    "- Risolvere il sistema lineare Ax=b con matrice dei coefficienti A di Poisson con ordine che va da 10 a 100 con step 2,  e termine noto b scelto in maniera tale che il sistema abbia soluzione il vettore x con tutte le componenti  uguali ad 1, utilizzando  il metodo iterativo del gradiente e del gradiente coniugato  "
   ]
  },
  {
   "cell_type": "markdown",
   "id": "39a8e883-20ae-44d7-960b-7e0727f94298",
   "metadata": {},
   "source": [
    "## Esercizio 4\n",
    "Consideriamo il sistema lineare Ax=b  dov A è  la matrice di Hilbert di dimensione 5, costruita usando la funzione hilbert(n) di scipy.linalg (A=scipy.linalg.hilbert(5)) in modo tale che la soluzione esatta sia $x = (1, 1, . . . , 1)^T$ .\n",
    "Risolvere il sistema lineare usando sia il metodi del gradiente che il metodo del gradiente coniugato e confrontarne gli errori ad ogni iterazione."
   ]
  },
  {
   "cell_type": "markdown",
   "id": "a93dd8c4-27ea-41ea-b359-fe06d4f9d585",
   "metadata": {},
   "source": [
    "## Esercizio 5\n",
    "Importare il file creaG ed utilizzare le funzioni sottospecificate per creare, scelto $n$,  una matrice D di ordine $m=(n-2)^2$\n",
    "\n",
    "*import creaG*\n",
    "\n",
    "*G = creaG.numgrid(n)*\n",
    "\n",
    "*D = creaG.delsq(G).todense().getA()*\n",
    "\n",
    "Risolvere il sistema lineare Dx=b, con matrice G di ordine m=16 ed ordine m=400, (scegliere n in maniera opportuna), usando i metodi del gradiente e del gradiente coniugato. Confrontare gli errori su uno stesso grafico e giustifcare i risultati alla luce del risultato teorico della maggiorazione dell'errore per entrambi i metodi"
   ]
  },
  {
   "cell_type": "markdown",
   "id": "d9bfd12f",
   "metadata": {},
   "source": [
    "Dalla teoria sappiamo che nel metodo del gradiente\n",
    "\n",
    "$$\n",
    "\\| e_k \\|_A \\leq \\frac{K(A) - 1}{K(A) + 1} \\| e_0 \\|_A\n",
    "$$\n",
    "\n",
    "quindi l'indice di condizionamento della matrice influenza la velocità di convergenza del metodo: maggiore è l'indice di condizionamento, più il fattore di riduzione dell'errore si avvicina a 1.\n",
    "\n",
    "Valutiamo quindi l'espressione:\n",
    "\n",
    "$$\n",
    "\\frac{K(A) - 1}{K(A) + 1}\n",
    "$$\n",
    "\n",
    "nel nostro caso.\n"
   ]
  },
  {
   "cell_type": "markdown",
   "id": "db164a53-fc38-450e-b9a1-ad7011f1170d",
   "metadata": {},
   "source": [
    "Dalla teoria sappiamo che nel metodo del gradiente coniugato\n",
    "\n",
    "$$\n",
    "\\| e_k \\|_A \\leq \\frac{\\sqrt{K(A)} - 1}{\\sqrt{K(A)} + 1} \\| e_0 \\|_A\n",
    "$$\n",
    "\n",
    "quindi l'indice di condizionamento della matrice influenza la velocità di convergenza del metodo, ma meno gravemente rispetto al metodo del gradiente: maggiore è l'indice di condizionamento, più il fattore di riduzione dell'errore si avvicina a 1.\n",
    "\n",
    "L'espressione per il fattore di riduzione dell'errore è:\n",
    "\n",
    "$$\n",
    "\\frac{\\sqrt{K(A)} - 1}{\\sqrt{K(A)} + 1}\n",
    "$$\n",
    "\n",
    "Valutiamo quindi questa espressione nel nostro caso.\n"
   ]
  }
 ],
 "metadata": {
  "kernelspec": {
   "display_name": "Python 3 (ipykernel)",
   "language": "python",
   "name": "python3"
  },
  "language_info": {
   "codemirror_mode": {
    "name": "ipython",
    "version": 3
   },
   "file_extension": ".py",
   "mimetype": "text/x-python",
   "name": "python",
   "nbconvert_exporter": "python",
   "pygments_lexer": "ipython3",
   "version": "3.11.7"
  }
 },
 "nbformat": 4,
 "nbformat_minor": 5
}
