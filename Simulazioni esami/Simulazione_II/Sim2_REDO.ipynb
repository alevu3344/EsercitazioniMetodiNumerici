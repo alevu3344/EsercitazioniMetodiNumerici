{
 "cells": [
  {
   "cell_type": "markdown",
   "id": "436b21ca-81f4-4a28-b1b3-7bcec38b8ec9",
   "metadata": {},
   "source": [
    "## Simulazione II Esame di Metodi Numerici Soluzioni##"
   ]
  },
  {
   "cell_type": "markdown",
   "id": "9a338784-8746-4014-bec9-951026190441",
   "metadata": {},
   "source": [
    "Nel file ``Test_I.mat`` sono memorizzate le matrici A1, A2 ed A3 ed i vettori b1,b2,b3. \n",
    "- Risolvere i 3 sistemi lineari aventi matrice dei coefficienti A1 e termine noto b1, matrice dei coefficienti A2 e termine noto b2, matrice dei coefficienti A3 e terimine noto b3  utilizzando il metodo più adatto per ciascuno di essi e  commentare i risultati ottenuti  giustificandoli alla luce della teoria.\n",
    "\n",
    "                                                                                            punti 12\n",
    "                                                                                            \n",
    "- Verificare se le matrici sono malcondizionate. Indicare la formula matematica dell'indice di condizionamento e spiegare perchè è importante conoscere l'indice di condizionamento di una matrice.\n",
    "                                                                                           \n",
    "                                                                                           punti 2\n",
    "\n",
    "- Dopo aver copiato nel numpy array b1p il termine noto b1 del primo sistema lineare con matrice dei coefficienti A1, effettuarne una perturbazione della prima componente nel seguente modo b1p[0]=b1p[0]+0.001*b1p[0]. Risolvere il sistema lineare con matrice A1 e termine noto perturbato b1p. Calcolare l'errore relativo sulla soluzione e l'errore relativo sul termine noto, descrivere ciò che si verifica giustificandolo alla luce della teoria.\n",
    "\n",
    "                                                                                           punti 2\n",
    "\n",
    "\n",
    "Per la lettura dei dati procedere nel seguente modo:\n",
    "\n",
    "``from scipy.io import loadmat``\n",
    "\n",
    "``import numpy as np``\n",
    "\n",
    "``dati = loadmat('Test_II.mat')``\n",
    "\n",
    "``A1=dati[\"A1\"] ``\n",
    "\n",
    "``A1=A1.astype(float)``\n",
    "\n",
    "`` b1=dati[\"b1\"] ``\n",
    "\n",
    "`` b1=b1.astype(float)``\n",
    "\n",
    "``A2=dati[\"A2\"] ``\n",
    "\n",
    "``A2=A2.astype(float)``\n",
    "\n",
    "`` b2=dati[\"b2\"] ``\n",
    "\n",
    "`` b2=b2.astype(float)``\n",
    "\n",
    "``A3=dati[\"A3\"] ``\n",
    "\n",
    "``A3=A3.astype(float)``\n",
    "\n",
    "`` b3=dati[\"b3\"] ``\n",
    "\n",
    "`` b3=b3.astype(float)``\n",
    "\n",
    "\n",
    "\n",
    "                                                                    Punti 16"
   ]
  },
  {
   "cell_type": "markdown",
   "id": "c7c0fc1b-bc94-49c2-ac4f-7f5aef30ee48",
   "metadata": {},
   "source": [
    "## Esercizio 2 ##"
   ]
  },
  {
   "cell_type": "markdown",
   "id": "ac5bd596-03c0-403c-a91d-c009267ab3f7",
   "metadata": {},
   "source": [
    "Per ogni $k \\in N$ l'equazione di II grado $x^2+(2^{2k}-3^{-2k})x-2^{2k}3^{-2k}=0 $ ha come soluzioni esatte $x_1=-2^{2k}$,$x_2=3^{-2k}$,"
   ]
  },
  {
   "cell_type": "markdown",
   "id": "7199ac8a-fea4-41e2-a06b-95020434c852",
   "metadata": {},
   "source": [
    "Scrivere lo script python in cui\n",
    "- si implementa la formula risolutiva delle equazioni di II grado per calcolare le  due soluzioni per $k$ che  assume valori interi tra 6 e 16;  [**Punti 2**]"
   ]
  },
  {
   "cell_type": "markdown",
   "id": "160a8638-ea35-489f-9ff4-ab13bd7c0603",
   "metadata": {},
   "source": [
    "- per entrambe le soluzioni, si calcoli l'errore relativo commesso al variare di k che assume valori interi tra 6 e 16;   [**Punti 1**]"
   ]
  },
  {
   "cell_type": "markdown",
   "id": "d3874f87-91f9-47de-b05a-928d840e86bd",
   "metadata": {},
   "source": [
    "- si rappresentino in un grafico gli andamenti dei due errori relativi calcolati nel punto precedente; [**Punti 1**]"
   ]
  },
  {
   "cell_type": "markdown",
   "id": "0094aaef-c1e9-4aed-ace7-d1c89638e136",
   "metadata": {},
   "source": [
    "- osservando i grafici ottenuti, si dica se le formule utilizzate per calcolare le due soluzioni hanno dato luogo ad algoritmi stabili, motivando opportunamente la risposta alla luce della teoria. [**Punti 6**]"
   ]
  },
  {
   "cell_type": "markdown",
   "id": "283a9ff0-0abb-4469-b868-8b9b9918ebb0",
   "metadata": {},
   "source": [
    "- in caso di instabilita', si fornisca un algoritmo di calcolo stabile e si mostrino in un nuovo grafico gli\n",
    "andamenti dei nuovi errori relativi ottenuti. [**Punti 6**]"
   ]
  }
 ],
 "metadata": {
  "kernelspec": {
   "display_name": "Python 3 (ipykernel)",
   "language": "python",
   "name": "python3"
  },
  "language_info": {
   "codemirror_mode": {
    "name": "ipython",
    "version": 3
   },
   "file_extension": ".py",
   "mimetype": "text/x-python",
   "name": "python",
   "nbconvert_exporter": "python",
   "pygments_lexer": "ipython3",
   "version": "3.11.7"
  }
 },
 "nbformat": 4,
 "nbformat_minor": 5
}
